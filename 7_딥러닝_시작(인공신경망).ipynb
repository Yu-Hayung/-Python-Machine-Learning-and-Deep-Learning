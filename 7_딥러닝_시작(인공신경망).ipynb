{
  "nbformat": 4,
  "nbformat_minor": 0,
  "metadata": {
    "colab": {
      "name": "7. 딥러닝 시작(인공신경망).ipynb",
      "provenance": [],
      "authorship_tag": "ABX9TyPVEChposvG0p9/4j24PYYG",
      "include_colab_link": true
    },
    "kernelspec": {
      "name": "python3",
      "display_name": "Python 3"
    },
    "language_info": {
      "name": "python"
    }
  },
  "cells": [
    {
      "cell_type": "markdown",
      "metadata": {
        "id": "view-in-github",
        "colab_type": "text"
      },
      "source": [
        "<a href=\"https://colab.research.google.com/github/Yu-Hayung/Python-Machine-Learning-and-Deep-Learning/blob/main/7_%EB%94%A5%EB%9F%AC%EB%8B%9D_%EC%8B%9C%EC%9E%91(%EC%9D%B8%EA%B3%B5%EC%8B%A0%EA%B2%BD%EB%A7%9D).ipynb\" target=\"_parent\"><img src=\"https://colab.research.google.com/assets/colab-badge.svg\" alt=\"Open In Colab\"/></a>"
      ]
    },
    {
      "cell_type": "markdown",
      "metadata": {
        "id": "4dSZGH4L1TOC"
      },
      "source": [
        "# 딥러닝 시작 \n",
        "\n",
        "## 인공 신경망 \n",
        "\n",
        "## MNIST\n"
      ]
    },
    {
      "cell_type": "code",
      "metadata": {
        "id": "HHFQ9hHO1R58"
      },
      "source": [
        "from tensorflow import keras\n",
        "(train_input, train_target), (test_input, test_target) = \\\n",
        "    keras.datasets.fashion_mnist.load_data()"
      ],
      "execution_count": 1,
      "outputs": []
    },
    {
      "cell_type": "code",
      "metadata": {
        "colab": {
          "base_uri": "https://localhost:8080/"
        },
        "id": "2c_LRBDU1Spf",
        "outputId": "f736d131-17dc-4e8c-cec0-3bb220aef974"
      },
      "source": [
        "print(train_input.shape, train_target.shape)"
      ],
      "execution_count": 2,
      "outputs": [
        {
          "output_type": "stream",
          "text": [
            "(60000, 28, 28) (60000,)\n"
          ],
          "name": "stdout"
        }
      ]
    },
    {
      "cell_type": "code",
      "metadata": {
        "colab": {
          "base_uri": "https://localhost:8080/"
        },
        "id": "qMrZlSuM1SsG",
        "outputId": "506b48bc-468f-4cf9-86e7-c4b5406827bf"
      },
      "source": [
        "print(test_input.shape, test_target.shape)"
      ],
      "execution_count": 3,
      "outputs": [
        {
          "output_type": "stream",
          "text": [
            "(10000, 28, 28) (10000,)\n"
          ],
          "name": "stdout"
        }
      ]
    },
    {
      "cell_type": "code",
      "metadata": {
        "colab": {
          "base_uri": "https://localhost:8080/",
          "height": 78
        },
        "id": "rU9ZcEJO1SvI",
        "outputId": "d674fc77-6325-4fbf-be63-40be24fbde8d"
      },
      "source": [
        "import matplotlib.pyplot as plt\n",
        "\n",
        "fig, axs = plt.subplots(1, 10, figsize =(10, 10))\n",
        "for i in range(10):\n",
        "  axs[i].imshow(train_input[i], cmap = 'gray_r')\n",
        "  axs[i].axis('off')\n",
        "plt.show()"
      ],
      "execution_count": 4,
      "outputs": [
        {
          "output_type": "display_data",
          "data": {
            "image/png": "[encoded data removed]",
            "text/plain": [
              "<Figure size 720x720 with 10 Axes>"
            ]
          },
          "metadata": {
            "tags": [],
            "needs_background": "light"
          }
        }
      ]
    },
    {
      "cell_type": "code",
      "metadata": {
        "colab": {
          "base_uri": "https://localhost:8080/"
        },
        "id": "L0FUMS6J1SyE",
        "outputId": "2c91af1d-69ff-4169-9aeb-67f2c8864789"
      },
      "source": [
        "print([train_target[i] for i in range(10)])"
      ],
      "execution_count": 5,
      "outputs": [
        {
          "output_type": "stream",
          "text": [
            "[9, 0, 0, 3, 0, 2, 7, 2, 5, 5]\n"
          ],
          "name": "stdout"
        }
      ]
    },
    {
      "cell_type": "code",
      "metadata": {
        "colab": {
          "base_uri": "https://localhost:8080/"
        },
        "id": "w_kmPSxZ3Hg6",
        "outputId": "5c864cfa-35ee-4cdb-d158-fa2a671028b1"
      },
      "source": [
        "import numpy as np\n",
        "\n",
        "print(np.unique(train_target, return_counts=True))"
      ],
      "execution_count": 6,
      "outputs": [
        {
          "output_type": "stream",
          "text": [
            "(array([0, 1, 2, 3, 4, 5, 6, 7, 8, 9], dtype=uint8), array([6000, 6000, 6000, 6000, 6000, 6000, 6000, 6000, 6000, 6000]))\n"
          ],
          "name": "stdout"
        }
      ]
    },
    {
      "cell_type": "markdown",
      "metadata": {
        "id": "ArSeXq-N4Tp8"
      },
      "source": [
        "## 로지스틱 회귀로 패션 아이템 분류 하기 "
      ]
    },
    {
      "cell_type": "code",
      "metadata": {
        "id": "F7GB3uBx3HjN"
      },
      "source": [
        "train_scaled = train_input / 255.0\n",
        "train_scaled = train_scaled.reshape(-1, 28*28)"
      ],
      "execution_count": 7,
      "outputs": []
    },
    {
      "cell_type": "code",
      "metadata": {
        "colab": {
          "base_uri": "https://localhost:8080/"
        },
        "id": "7JqCsGd53Hlp",
        "outputId": "082ad5d9-6b88-42f1-9377-841ad1c3f363"
      },
      "source": [
        "print(train_scaled.shape)"
      ],
      "execution_count": 8,
      "outputs": [
        {
          "output_type": "stream",
          "text": [
            "(60000, 784)\n"
          ],
          "name": "stdout"
        }
      ]
    },
    {
      "cell_type": "code",
      "metadata": {
        "colab": {
          "base_uri": "https://localhost:8080/"
        },
        "id": "tXXDdTHb3Hnx",
        "outputId": "0e99c7af-2012-4375-de93-81a43a962a30"
      },
      "source": [
        "from sklearn.model_selection import cross_validate\n",
        "from sklearn.linear_model import SGDClassifier\n",
        "\n",
        "sc = SGDClassifier(loss='log', max_iter=5, random_state=42)\n",
        "scores = cross_validate(sc, train_scaled, train_target, n_jobs= -1)\n",
        "print(np.mean(scores['test_score']))"
      ],
      "execution_count": 9,
      "outputs": [
        {
          "output_type": "stream",
          "text": [
            "0.8195666666666668\n"
          ],
          "name": "stdout"
        }
      ]
    },
    {
      "cell_type": "code",
      "metadata": {
        "colab": {
          "base_uri": "https://localhost:8080/"
        },
        "id": "WfawbjUw3HqC",
        "outputId": "603ba7c2-99f7-413c-851e-766ea5f021b9"
      },
      "source": [
        "sc = SGDClassifier(loss='log', max_iter=9, random_state=42)\n",
        "scores = cross_validate(sc, train_scaled, train_target, n_jobs= -1)\n",
        "print(np.mean(scores['test_score']))"
      ],
      "execution_count": 10,
      "outputs": [
        {
          "output_type": "stream",
          "text": [
            "0.8303833333333334\n"
          ],
          "name": "stdout"
        }
      ]
    },
    {
      "cell_type": "code",
      "metadata": {
        "colab": {
          "base_uri": "https://localhost:8080/"
        },
        "id": "s02eQ9283HsX",
        "outputId": "3f4efed4-dc8a-4777-9edf-b7b14a6bd2d5"
      },
      "source": [
        "sc = SGDClassifier(loss='log', max_iter=10, random_state=42)\n",
        "scores = cross_validate(sc, train_scaled, train_target, n_jobs= -1)\n",
        "print(np.mean(scores['test_score']))"
      ],
      "execution_count": 11,
      "outputs": [
        {
          "output_type": "stream",
          "text": [
            "0.8313333333333333\n"
          ],
          "name": "stdout"
        }
      ]
    },
    {
      "cell_type": "code",
      "metadata": {
        "colab": {
          "base_uri": "https://localhost:8080/"
        },
        "id": "9t8WS4x23Huu",
        "outputId": "3891f711-3faf-4a65-8b39-9028a0391e5c"
      },
      "source": [
        "sc = SGDClassifier(loss='log', max_iter=20, random_state=42)\n",
        "scores = cross_validate(sc, train_scaled, train_target, n_jobs= -1)\n",
        "print(np.mean(scores['test_score']))"
      ],
      "execution_count": 12,
      "outputs": [
        {
          "output_type": "stream",
          "text": [
            "0.8436999999999999\n"
          ],
          "name": "stdout"
        }
      ]
    },
    {
      "cell_type": "markdown",
      "metadata": {
        "id": "22CTJGxC54Oa"
      },
      "source": [
        "## 인공 신경망 \n",
        "\n",
        "![image.png](data:image/png;base64,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)"
      ]
    },
    {
      "cell_type": "markdown",
      "metadata": {
        "id": "GG9N0Ux17Q8n"
      },
      "source": [
        "# 텐서플로와 케라스 \n",
        "\n",
        "텐서플로는 구글이 2015 / 11 공개한 딥러닝 라이브러리 이다. \n",
        "\n",
        "2016 / 3 알파고가 이세돌 9단을 이켜 대중에 알려지면서 폭발적인 인기가 높아짐 \n",
        "\n",
        "케라스는  텐서플로의 고수준 API 이다."
      ]
    },
    {
      "cell_type": "code",
      "metadata": {
        "id": "sn1LknDb3Hw0"
      },
      "source": [
        "import tensorflow as tf\n",
        "\n",
        "from tensorflow import keras"
      ],
      "execution_count": 13,
      "outputs": []
    },
    {
      "cell_type": "markdown",
      "metadata": {
        "id": "pBVTwMTM7xj2"
      },
      "source": [
        "## 인공신경망으로 모델 만들기 "
      ]
    },
    {
      "cell_type": "code",
      "metadata": {
        "id": "3qelO8VR3HzL"
      },
      "source": [
        "from sklearn.model_selection import train_test_split\n",
        "train_scaled, val_scaled, train_target, val_target = train_test_split(\n",
        "    train_scaled, train_target, test_size=0.2, random_state=42)\n",
        "\n",
        "# test_size=0.2 = 20% 검증 세트 "
      ],
      "execution_count": 14,
      "outputs": []
    },
    {
      "cell_type": "code",
      "metadata": {
        "colab": {
          "base_uri": "https://localhost:8080/"
        },
        "id": "R9Kd0z0K3H1i",
        "outputId": "05eab71f-a6f6-4603-ace5-d61a77a2b91e"
      },
      "source": [
        "print(train_scaled.shape, train_target.shape)"
      ],
      "execution_count": 15,
      "outputs": [
        {
          "output_type": "stream",
          "text": [
            "(48000, 784) (48000,)\n"
          ],
          "name": "stdout"
        }
      ]
    },
    {
      "cell_type": "code",
      "metadata": {
        "colab": {
          "base_uri": "https://localhost:8080/"
        },
        "id": "AJBvlp9x3H4G",
        "outputId": "5d150025-dc2d-4c6c-f04c-ac6f8c8d68ab"
      },
      "source": [
        "print(val_scaled.shape, val_target.shape)"
      ],
      "execution_count": 16,
      "outputs": [
        {
          "output_type": "stream",
          "text": [
            "(12000, 784) (12000,)\n"
          ],
          "name": "stdout"
        }
      ]
    },
    {
      "cell_type": "code",
      "metadata": {
        "id": "iaNlavZy3H6c"
      },
      "source": [
        "dense = keras.layers.Dense(10, activation='softmax', input_shape=(784,)) \n",
        "\n",
        "# 뉴런개수 = 10, 뉴런의 출력에 적용할 함수, 입력의 크기 "
      ],
      "execution_count": 17,
      "outputs": []
    },
    {
      "cell_type": "code",
      "metadata": {
        "id": "U7jW4A2x3H8j"
      },
      "source": [
        "model = keras.Sequential(dense)"
      ],
      "execution_count": 18,
      "outputs": []
    },
    {
      "cell_type": "markdown",
      "metadata": {
        "id": "rGisNeOc-9t6"
      },
      "source": [
        "## 인공신경망으로 패션 아이템 분류하기 "
      ]
    },
    {
      "cell_type": "code",
      "metadata": {
        "id": "ZIBIbe66-7Yh"
      },
      "source": [
        "model.compile(loss ='sparse_categorical_crossentropy', metrics='accuracy')"
      ],
      "execution_count": 19,
      "outputs": []
    },
    {
      "cell_type": "markdown",
      "metadata": {
        "id": "RjdYS0qa_VIf"
      },
      "source": [
        "이진 분류 : loss = 'binary_crossentropy'\n",
        "다중 분류 : loss = 'categorical_crossentropy'\n",
        "\n",
        "- 이진 크로스 엔트로피 손실을 위해 -log(예측 확률)에 타깃값(정답)을 곱해 진행\n",
        "\n",
        "이진 분류의 타깃값은 양성 샘플일 경우에는 1, 음성샘플일 경우에는 0으로 된다. 0을 곱하면 어떤 계산이든 모두 0이 되기 때문에 특별히 음성 샘플일 경우 1로 바뀌어 (1-타깃값) 계산한다. \n"
      ]
    },
    {
      "cell_type": "code",
      "metadata": {
        "colab": {
          "base_uri": "https://localhost:8080/"
        },
        "id": "C31RkaI-_UlL",
        "outputId": "99c342b7-5624-4ce6-f82c-6afeb357ca98"
      },
      "source": [
        "print(train_target[:10])"
      ],
      "execution_count": 20,
      "outputs": [
        {
          "output_type": "stream",
          "text": [
            "[7 3 5 8 6 9 3 3 9 9]\n"
          ],
          "name": "stdout"
        }
      ]
    },
    {
      "cell_type": "code",
      "metadata": {
        "colab": {
          "base_uri": "https://localhost:8080/"
        },
        "id": "CN8MwW2W3H-n",
        "outputId": "b090e8a2-1349-42bb-ab07-2c8ae450e93f"
      },
      "source": [
        "model.fit(train_scaled, train_target, epochs=5)"
      ],
      "execution_count": 21,
      "outputs": [
        {
          "output_type": "stream",
          "text": [
            "Epoch 1/5\n",
            "1500/1500 [==============================] - 2s 1ms/step - loss: 0.6036 - accuracy: 0.7939\n",
            "Epoch 2/5\n",
            "1500/1500 [==============================] - 2s 1ms/step - loss: 0.4797 - accuracy: 0.8394\n",
            "Epoch 3/5\n",
            "1500/1500 [==============================] - 2s 1ms/step - loss: 0.4562 - accuracy: 0.8485\n",
            "Epoch 4/5\n",
            "1500/1500 [==============================] - 2s 1ms/step - loss: 0.4451 - accuracy: 0.8516\n",
            "Epoch 5/5\n",
            "1500/1500 [==============================] - 2s 1ms/step - loss: 0.4371 - accuracy: 0.8544\n"
          ],
          "name": "stdout"
        },
        {
          "output_type": "execute_result",
          "data": {
            "text/plain": [
              "<tensorflow.python.keras.callbacks.History at 0x7f40da9a3710>"
            ]
          },
          "metadata": {
            "tags": []
          },
          "execution_count": 21
        }
      ]
    },
    {
      "cell_type": "markdown",
      "metadata": {
        "id": "bUbTqDB-DCNV"
      },
      "source": [
        "케라스는 에포크마다 걸린 시간과 손실 (loss), 정확도(accuracy)출력한다. \n",
        "케라스 모델의 성능을 평가하는 메서드 = evaluate() 메서드 이다. "
      ]
    },
    {
      "cell_type": "code",
      "metadata": {
        "colab": {
          "base_uri": "https://localhost:8080/"
        },
        "id": "avEREZk7Ctnc",
        "outputId": "f563850e-ae30-47dd-e7c8-63cab8a6a439"
      },
      "source": [
        "model.evaluate(val_scaled, val_target)"
      ],
      "execution_count": 22,
      "outputs": [
        {
          "output_type": "stream",
          "text": [
            "375/375 [==============================] - 1s 1ms/step - loss: 0.4666 - accuracy: 0.8415\n"
          ],
          "name": "stdout"
        },
        {
          "output_type": "execute_result",
          "data": {
            "text/plain": [
              "[0.46662235260009766, 0.8414999842643738]"
            ]
          },
          "metadata": {
            "tags": []
          },
          "execution_count": 22
        }
      ]
    },
    {
      "cell_type": "markdown",
      "metadata": {
        "id": "4xEeXy_hDK9m"
      },
      "source": [
        "## 심층 신경망 "
      ]
    },
    {
      "cell_type": "code",
      "metadata": {
        "id": "Hktq98NjDKZA"
      },
      "source": [
        "# API를 사용해 MNIST 데이터셋 불러오기 \n",
        "\n",
        "from tensorflow import keras\n",
        "(train_input, train_target),(test_input, test_target) = \\\n",
        "    keras.datasets.fashion_mnist.load_data()"
      ],
      "execution_count": 23,
      "outputs": []
    },
    {
      "cell_type": "code",
      "metadata": {
        "id": "rxYl6oUs3IAt"
      },
      "source": [
        "from sklearn.model_selection import train_test_split\n",
        "\n",
        "\n",
        "train_scaled = train_input / 255.0\n",
        "train_scaled = train_scaled.reshape(-1, 28*28)\n",
        "\n",
        "\n",
        "train_scaled, val_scaled, train_target, val_target = train_test_split(\n",
        "    train_scaled, train_target, test_size = 0.2, random_state=42)"
      ],
      "execution_count": 24,
      "outputs": []
    },
    {
      "cell_type": "markdown",
      "metadata": {
        "id": "4ovqYmSoGhjl"
      },
      "source": [
        "### 인공 신경망 모델 2개 추가 \n",
        "\n",
        "출력층에 적용할 수 있는 활성화 함수 종류는 제한되어 있다. \n",
        "이진분류일 경우 시그모이드 함수 사용, 다중 분류일 경우 소프트맥스 함수 사용 \n",
        "\n",
        "은닉층은 활성화 함수는 비교적 자유롭다. \n",
        "대표적으로 시그모이드 함수와 렐루 함수등을 적용할 수 있다. "
      ]
    },
    {
      "cell_type": "code",
      "metadata": {
        "id": "JZTmsaHk3IDD"
      },
      "source": [
        "# 인공 신경망 모델 2개 추가 \n",
        "\n",
        "dense1 = keras.layers.Dense(100, activation='sigmoid', input_shape=(784,))\n",
        "dense2 = keras.layers.Dense(10, activation='softmax')"
      ],
      "execution_count": 25,
      "outputs": []
    },
    {
      "cell_type": "markdown",
      "metadata": {
        "id": "M0c7i9iOHOUU"
      },
      "source": [
        "## 심층 신경망 만들기 "
      ]
    },
    {
      "cell_type": "code",
      "metadata": {
        "colab": {
          "base_uri": "https://localhost:8080/"
        },
        "id": "w-queatbHMf7",
        "outputId": "6287b0bf-d540-4689-9a7e-842b2dd8ca15"
      },
      "source": [
        "model = keras.Sequential([dense1, dense2])\n",
        "\n",
        "model.summary()"
      ],
      "execution_count": 26,
      "outputs": [
        {
          "output_type": "stream",
          "text": [
            "Model: \"sequential_1\"\n",
            "_________________________________________________________________\n",
            "Layer (type)                 Output Shape              Param #   \n",
            "=================================================================\n",
            "dense_1 (Dense)              (None, 100)               78500     \n",
            "_________________________________________________________________\n",
            "dense_2 (Dense)              (None, 10)                1010      \n",
            "=================================================================\n",
            "Total params: 79,510\n",
            "Trainable params: 79,510\n",
            "Non-trainable params: 0\n",
            "_________________________________________________________________\n"
          ],
          "name": "stdout"
        }
      ]
    },
    {
      "cell_type": "markdown",
      "metadata": {
        "id": "ukXLH-xvHhWT"
      },
      "source": [
        "첫줄 모델이름 <br>\n",
        "모델에 들어 있는 층이 순서대로 나열 이 순서는 맨 처음 추가한 은닉층에서 출력층의 순서대로 나열 \n",
        "\n",
        "층마다 층 이름, 클래스, 출력크기, 모델 파라미터 개수가 출력된다.<br>\n",
        "층을 만들때 name 매개변수로 이름을 지정할 수 있다. (기본값 'dense'로 붙여짐)\n",
        "\n",
        "---\n",
        "\n",
        "출력 값을 풀어보자 \n",
        "\n",
        "출력크기 = (Nome, 100) : 차원은 샘플의 개수를 나타낸다. 샘플 개수가 아직 정의 되지 않아 None 이다.<br>\n",
        "케라스 모델의 fit() 메서드에 훈련데이터를 주입하면 이 데이터를 한번에 모두 사용하지 않고 잘게 나누어 여러번에 걸쳐 경사 하강법 단계를 수행하기 때문 = **미니배치 경사 하강법** \n",
        "\n",
        "케라스의 기본 미니배치의 크기는 32개 기본값\n",
        "fit() 메서드 에서 barch_size 매개 변수로 바꿀 수 있음 \n",
        "= 따라서 샘플 개수를 고정하지 않고 어떤 배치 크기에도 유연하게 대응할 수 있도록 None을 설정한다. \n",
        "\n",
        "이렇게 신경망 층에 입력되거나 출력되는 배열의 첫 번째 차원을 배치 차원이라고 부른다. \n",
        "\n",
        "Trainable params: 79,510 총 모델 파라미터 개수와 훈련되는 파라미터 개수가 동일하게 79,510개 나온다. 은닉층과 출력층의 파라미터 개수를 합친값 \n",
        "\n",
        "Non-trainable params: 0 은 간혹 경사 하강법으로 훈련되지 않은 파라미터를 가진 층"
      ]
    },
    {
      "cell_type": "markdown",
      "metadata": {
        "id": "B2feUA-aJ_Zm"
      },
      "source": [
        "## 층을 추가하는 방법 "
      ]
    },
    {
      "cell_type": "code",
      "metadata": {
        "id": "YJGWcNhIHMiB"
      },
      "source": [
        "model = keras.Sequential([\n",
        "    keras.layers.Dense(100, activation='sigmoid', input_shape=(784,),\n",
        "                       name= 'hidden'),\n",
        "    keras.layers.Dense(10, activation='softmax', name='output')\n",
        "    ], name='패션 MNIST 모델')"
      ],
      "execution_count": 27,
      "outputs": []
    },
    {
      "cell_type": "code",
      "metadata": {
        "colab": {
          "base_uri": "https://localhost:8080/"
        },
        "id": "XrhFUjs4HMkJ",
        "outputId": "e90061ff-5e8b-4185-c147-06fa3b2ae1db"
      },
      "source": [
        "model.summary()"
      ],
      "execution_count": 28,
      "outputs": [
        {
          "output_type": "stream",
          "text": [
            "Model: \"패션 MNIST 모델\"\n",
            "_________________________________________________________________\n",
            "Layer (type)                 Output Shape              Param #   \n",
            "=================================================================\n",
            "hidden (Dense)               (None, 100)               78500     \n",
            "_________________________________________________________________\n",
            "output (Dense)               (None, 10)                1010      \n",
            "=================================================================\n",
            "Total params: 79,510\n",
            "Trainable params: 79,510\n",
            "Non-trainable params: 0\n",
            "_________________________________________________________________\n"
          ],
          "name": "stdout"
        }
      ]
    },
    {
      "cell_type": "code",
      "metadata": {
        "id": "5nFVT7FPHMmJ"
      },
      "source": [
        "model = keras.Sequential()\n",
        "model.add(keras.layers.Dense(100, activation='sigmoid', input_shape=(784,)))\n",
        "model.add(keras.layers.Dense(10, activation='softmax'))"
      ],
      "execution_count": 29,
      "outputs": []
    },
    {
      "cell_type": "code",
      "metadata": {
        "colab": {
          "base_uri": "https://localhost:8080/"
        },
        "id": "j-HvX_aYHMod",
        "outputId": "9fe448d9-6d05-4878-89d9-3ed9f6a82aa3"
      },
      "source": [
        "model.summary()"
      ],
      "execution_count": 30,
      "outputs": [
        {
          "output_type": "stream",
          "text": [
            "Model: \"sequential_2\"\n",
            "_________________________________________________________________\n",
            "Layer (type)                 Output Shape              Param #   \n",
            "=================================================================\n",
            "dense_3 (Dense)              (None, 100)               78500     \n",
            "_________________________________________________________________\n",
            "dense_4 (Dense)              (None, 10)                1010      \n",
            "=================================================================\n",
            "Total params: 79,510\n",
            "Trainable params: 79,510\n",
            "Non-trainable params: 0\n",
            "_________________________________________________________________\n"
          ],
          "name": "stdout"
        }
      ]
    },
    {
      "cell_type": "code",
      "metadata": {
        "colab": {
          "base_uri": "https://localhost:8080/"
        },
        "id": "ga8XZOvYHMqf",
        "outputId": "7a0c0008-0ecb-4e8d-95db-6f3458c39884"
      },
      "source": [
        "model.compile(loss='sparse_categorical_crossentropy', metrics='accuracy')\n",
        "model.fit(train_scaled, train_target, epochs=5)"
      ],
      "execution_count": 31,
      "outputs": [
        {
          "output_type": "stream",
          "text": [
            "Epoch 1/5\n",
            "1500/1500 [==============================] - 4s 2ms/step - loss: 0.5640 - accuracy: 0.8084\n",
            "Epoch 2/5\n",
            "1500/1500 [==============================] - 3s 2ms/step - loss: 0.4066 - accuracy: 0.8542\n",
            "Epoch 3/5\n",
            "1500/1500 [==============================] - 3s 2ms/step - loss: 0.3714 - accuracy: 0.8665\n",
            "Epoch 4/5\n",
            "1500/1500 [==============================] - 3s 2ms/step - loss: 0.3479 - accuracy: 0.8737\n",
            "Epoch 5/5\n",
            "1500/1500 [==============================] - 3s 2ms/step - loss: 0.3312 - accuracy: 0.8797\n"
          ],
          "name": "stdout"
        },
        {
          "output_type": "execute_result",
          "data": {
            "text/plain": [
              "<tensorflow.python.keras.callbacks.History at 0x7f40d79ecdd0>"
            ]
          },
          "metadata": {
            "tags": []
          },
          "execution_count": 31
        }
      ]
    },
    {
      "cell_type": "markdown",
      "metadata": {
        "id": "zSeQwzlqVXgM"
      },
      "source": [
        "# 렐루 함수 "
      ]
    },
    {
      "cell_type": "code",
      "metadata": {
        "id": "YswLH7URHMsu"
      },
      "source": [
        "model = keras.Sequential()\n",
        "model.add(keras.layers.Flatten(input_shape=(28, 28)))\n",
        "model.add(keras.layers.Dense(100, activation='relu'))\n",
        "model.add(keras.layers.Dense(10, activation='softmax'))"
      ],
      "execution_count": 32,
      "outputs": []
    },
    {
      "cell_type": "code",
      "metadata": {
        "colab": {
          "base_uri": "https://localhost:8080/"
        },
        "id": "j6DfzLpkHMug",
        "outputId": "de2cc4fa-8140-49d2-eb86-9c1450f69b3d"
      },
      "source": [
        "model.summary()"
      ],
      "execution_count": 33,
      "outputs": [
        {
          "output_type": "stream",
          "text": [
            "Model: \"sequential_3\"\n",
            "_________________________________________________________________\n",
            "Layer (type)                 Output Shape              Param #   \n",
            "=================================================================\n",
            "flatten (Flatten)            (None, 784)               0         \n",
            "_________________________________________________________________\n",
            "dense_5 (Dense)              (None, 100)               78500     \n",
            "_________________________________________________________________\n",
            "dense_6 (Dense)              (None, 10)                1010      \n",
            "=================================================================\n",
            "Total params: 79,510\n",
            "Trainable params: 79,510\n",
            "Non-trainable params: 0\n",
            "_________________________________________________________________\n"
          ],
          "name": "stdout"
        }
      ]
    },
    {
      "cell_type": "code",
      "metadata": {
        "id": "xxNDDk1bHMw5"
      },
      "source": [
        "(train_input, train_target), (test_input, test_target) = \\\n",
        "    keras.datasets.fashion_mnist.load_data()\n",
        "train_scaled = train_input / 255.0\n",
        "train_scaled, val_scaled, train_target, val_target = train_test_split(\n",
        "    train_scaled, train_target, test_size = 0.2, random_state=42)"
      ],
      "execution_count": 34,
      "outputs": []
    },
    {
      "cell_type": "code",
      "metadata": {
        "colab": {
          "base_uri": "https://localhost:8080/"
        },
        "id": "PARM0IaDHMyi",
        "outputId": "997ba58e-0901-452b-9ff6-890d387813d6"
      },
      "source": [
        "model.compile(loss='sparse_categorical_crossentropy', metrics='accuracy')\n",
        "model.fit(train_scaled, train_target, epochs=5)"
      ],
      "execution_count": 35,
      "outputs": [
        {
          "output_type": "stream",
          "text": [
            "Epoch 1/5\n",
            "1500/1500 [==============================] - 4s 2ms/step - loss: 0.5305 - accuracy: 0.8150\n",
            "Epoch 2/5\n",
            "1500/1500 [==============================] - 3s 2ms/step - loss: 0.3899 - accuracy: 0.8595\n",
            "Epoch 3/5\n",
            "1500/1500 [==============================] - 3s 2ms/step - loss: 0.3518 - accuracy: 0.8735\n",
            "Epoch 4/5\n",
            "1500/1500 [==============================] - 3s 2ms/step - loss: 0.3345 - accuracy: 0.8794\n",
            "Epoch 5/5\n",
            "1500/1500 [==============================] - 3s 2ms/step - loss: 0.3201 - accuracy: 0.8853\n"
          ],
          "name": "stdout"
        },
        {
          "output_type": "execute_result",
          "data": {
            "text/plain": [
              "<tensorflow.python.keras.callbacks.History at 0x7f40d7900290>"
            ]
          },
          "metadata": {
            "tags": []
          },
          "execution_count": 35
        }
      ]
    },
    {
      "cell_type": "code",
      "metadata": {
        "colab": {
          "base_uri": "https://localhost:8080/"
        },
        "id": "2l9JNeoCHM00",
        "outputId": "c0111c4a-c5a0-415f-aa93-9baeb0c91ea1"
      },
      "source": [
        "model.evaluate(val_scaled, val_target)"
      ],
      "execution_count": 36,
      "outputs": [
        {
          "output_type": "stream",
          "text": [
            "375/375 [==============================] - 1s 1ms/step - loss: 0.3503 - accuracy: 0.8798\n"
          ],
          "name": "stdout"
        },
        {
          "output_type": "execute_result",
          "data": {
            "text/plain": [
              "[0.35029149055480957, 0.8798333406448364]"
            ]
          },
          "metadata": {
            "tags": []
          },
          "execution_count": 36
        }
      ]
    },
    {
      "cell_type": "markdown",
      "metadata": {
        "id": "nqzQ6l1kXHdO"
      },
      "source": [
        "## 옵티 마이저\n",
        "\n",
        "하이퍼파라디터는 모델이 학습하지 않아 사람이 지정해 주어야 하는 파라미터이다. <br>\n",
        "신경망에는 특히 하이퍼파라미터가 많다. <br>\n",
        "**(활성화 함수도 선택해야 할 하이퍼파라미터 중 하나이다.)**\n",
        "\n",
        "\n",
        "케라스의 기본 경사 하강법 알고리즘인 RMSprop을 사용했다. <br>\n",
        "케라스는 다양한 종류의 경사 하강법 알고리즘을 제공한다. 이들을 옵티마이저 라고 부른다. \n",
        "\n",
        "= RMSprop 의 학습룰 또한 조정할 하이퍼파라미터 중 하나이다. \n"
      ]
    },
    {
      "cell_type": "code",
      "metadata": {
        "id": "qZpzrugVHM3R"
      },
      "source": [
        "model = keras.Sequential()\n",
        "model.add(keras.layers.Flatten(input_shape=(28,28)))\n",
        "model.add(keras.layers.Dense(100, activation='relu'))\n",
        "model.add(keras.layers.Dense(10, activation='softmax'))"
      ],
      "execution_count": 37,
      "outputs": []
    },
    {
      "cell_type": "code",
      "metadata": {
        "colab": {
          "base_uri": "https://localhost:8080/"
        },
        "id": "Xk0QodzCHM5R",
        "outputId": "08281e5a-4b34-4f1a-bdde-26dd431ce881"
      },
      "source": [
        "model.compile(optimizer='adam', loss='sparse_categorical_crossentropy',\n",
        "              metrics='accuracy')\n",
        "model.fit(train_scaled, train_target, epochs=5)"
      ],
      "execution_count": 38,
      "outputs": [
        {
          "output_type": "stream",
          "text": [
            "Epoch 1/5\n",
            "1500/1500 [==============================] - 3s 2ms/step - loss: 0.5236 - accuracy: 0.8177\n",
            "Epoch 2/5\n",
            "1500/1500 [==============================] - 3s 2ms/step - loss: 0.3900 - accuracy: 0.8592\n",
            "Epoch 3/5\n",
            "1500/1500 [==============================] - 3s 2ms/step - loss: 0.3511 - accuracy: 0.8727\n",
            "Epoch 4/5\n",
            "1500/1500 [==============================] - 3s 2ms/step - loss: 0.3253 - accuracy: 0.8813\n",
            "Epoch 5/5\n",
            "1500/1500 [==============================] - 3s 2ms/step - loss: 0.3074 - accuracy: 0.8863\n"
          ],
          "name": "stdout"
        },
        {
          "output_type": "execute_result",
          "data": {
            "text/plain": [
              "<tensorflow.python.keras.callbacks.History at 0x7f40daa1e590>"
            ]
          },
          "metadata": {
            "tags": []
          },
          "execution_count": 38
        }
      ]
    },
    {
      "cell_type": "code",
      "metadata": {
        "colab": {
          "base_uri": "https://localhost:8080/"
        },
        "id": "dTWRH5jGHM7a",
        "outputId": "2467de8f-4ffa-4538-8cad-cf21f4fcb66e"
      },
      "source": [
        "model.evaluate(val_scaled, val_target)"
      ],
      "execution_count": 39,
      "outputs": [
        {
          "output_type": "stream",
          "text": [
            "375/375 [==============================] - 1s 1ms/step - loss: 0.3491 - accuracy: 0.8728\n"
          ],
          "name": "stdout"
        },
        {
          "output_type": "execute_result",
          "data": {
            "text/plain": [
              "[0.34909549355506897, 0.8728333115577698]"
            ]
          },
          "metadata": {
            "tags": []
          },
          "execution_count": 39
        }
      ]
    },
    {
      "cell_type": "markdown",
      "metadata": {
        "id": "RqqshxRXmF5r"
      },
      "source": [
        "# 신경망 모델 훈련 \n",
        "\n",
        "## 손실 곡선 "
      ]
    },
    {
      "cell_type": "code",
      "metadata": {
        "id": "S27tdsw4mKvj"
      },
      "source": [
        "from tensorflow import keras\n",
        "from sklearn.model_selection import train_test_split\n",
        "\n",
        "\n",
        "(train_input, train_target), (test_input, test_target) =\\\n",
        "    keras.datasets.fashion_mnist.load_data()\n",
        "\n",
        "train_scaled = train_input / 255.0\n",
        "\n",
        "train_scaled, val_scaled, train_target, val_target = train_test_split(\n",
        "    train_scaled, train_target, test_size= 0.2, random_state=42)"
      ],
      "execution_count": 40,
      "outputs": []
    },
    {
      "cell_type": "code",
      "metadata": {
        "id": "i1rg1dogmKx2"
      },
      "source": [
        "def model_fn(a_layer=None):\n",
        "  model = keras.Sequential()\n",
        "  model.add(keras.layers.Flatten(input_shape=(28, 28)))\n",
        "  model.add(keras.layers.Dense(100, activation='relu'))\n",
        "  if a_layer:\n",
        "    model.add(a_layer)\n",
        "  model.add(keras.layers.Dense(10, activation='softmax'))\n",
        "  return model"
      ],
      "execution_count": 41,
      "outputs": []
    },
    {
      "cell_type": "code",
      "metadata": {
        "colab": {
          "base_uri": "https://localhost:8080/"
        },
        "id": "3pOuCjgKmK0I",
        "outputId": "a62f5f58-1233-411e-88e4-4a72c68b5122"
      },
      "source": [
        "model = model_fn()\n",
        "model.summary()"
      ],
      "execution_count": 42,
      "outputs": [
        {
          "output_type": "stream",
          "text": [
            "Model: \"sequential_5\"\n",
            "_________________________________________________________________\n",
            "Layer (type)                 Output Shape              Param #   \n",
            "=================================================================\n",
            "flatten_2 (Flatten)          (None, 784)               0         \n",
            "_________________________________________________________________\n",
            "dense_9 (Dense)              (None, 100)               78500     \n",
            "_________________________________________________________________\n",
            "dense_10 (Dense)             (None, 10)                1010      \n",
            "=================================================================\n",
            "Total params: 79,510\n",
            "Trainable params: 79,510\n",
            "Non-trainable params: 0\n",
            "_________________________________________________________________\n"
          ],
          "name": "stdout"
        }
      ]
    },
    {
      "cell_type": "code",
      "metadata": {
        "id": "sI27i9gfmK2s"
      },
      "source": [
        "model.compile(loss='sparse_categorical_crossentropy', metrics='accuracy')\n",
        "history = model.fit(train_scaled, train_target, epochs=5, verbose=0)"
      ],
      "execution_count": 43,
      "outputs": []
    },
    {
      "cell_type": "code",
      "metadata": {
        "colab": {
          "base_uri": "https://localhost:8080/"
        },
        "id": "NmFicBQcmK4Y",
        "outputId": "9180818a-4287-4d5c-f6db-83385599db43"
      },
      "source": [
        "print(history.history.keys())"
      ],
      "execution_count": 44,
      "outputs": [
        {
          "output_type": "stream",
          "text": [
            "dict_keys(['loss', 'accuracy'])\n"
          ],
          "name": "stdout"
        }
      ]
    },
    {
      "cell_type": "code",
      "metadata": {
        "colab": {
          "base_uri": "https://localhost:8080/",
          "height": 279
        },
        "id": "OEsdf9LomK6K",
        "outputId": "3a510c3e-c759-4cf0-94b5-93d5681a80d0"
      },
      "source": [
        "import matplotlib.pyplot as plt\n",
        "\n",
        "plt.plot(history.history['loss'])\n",
        "plt.xlabel('epoch')\n",
        "plt.ylabel('loss')\n",
        "plt.show()"
      ],
      "execution_count": 45,
      "outputs": [
        {
          "output_type": "display_data",
          "data": {
            "image/png": "[encoded data removed]",
            "text/plain": [
              "<Figure size 432x288 with 1 Axes>"
            ]
          },
          "metadata": {
            "tags": [],
            "needs_background": "light"
          }
        }
      ]
    },
    {
      "cell_type": "code",
      "metadata": {
        "colab": {
          "base_uri": "https://localhost:8080/",
          "height": 279
        },
        "id": "ZtkgSKQomK8M",
        "outputId": "9c32ce79-ab1e-4b4c-da34-6590e42ce585"
      },
      "source": [
        "\n",
        "plt.plot(history.history['accuracy'])\n",
        "plt.xlabel('epoch')\n",
        "plt.ylabel('loss')\n",
        "plt.show()"
      ],
      "execution_count": 46,
      "outputs": [
        {
          "output_type": "display_data",
          "data": {
            "image/png": "[encoded data removed]",
            "text/plain": [
              "<Figure size 432x288 with 1 Axes>"
            ]
          },
          "metadata": {
            "tags": [],
            "needs_background": "light"
          }
        }
      ]
    },
    {
      "cell_type": "code",
      "metadata": {
        "id": "6VeEW6W_wi4S"
      },
      "source": [
        "model = model_fn()\n",
        "\n",
        "model.compile(loss='sparse_categorical_crossentropy', metrics='accuracy')"
      ],
      "execution_count": 47,
      "outputs": []
    },
    {
      "cell_type": "code",
      "metadata": {
        "id": "OGVwLkr7wi7P"
      },
      "source": [
        "history = model.fit(train_scaled, train_target, epochs=20, verbose=0)"
      ],
      "execution_count": 48,
      "outputs": []
    },
    {
      "cell_type": "code",
      "metadata": {
        "colab": {
          "base_uri": "https://localhost:8080/",
          "height": 279
        },
        "id": "pnD6estmwi95",
        "outputId": "f2c8893f-4553-461a-ae2e-116f1c51a9ca"
      },
      "source": [
        "plt.plot(history.history['loss'])\n",
        "plt.xlabel('epoch')\n",
        "plt.ylabel('loss')\n",
        "plt.show()"
      ],
      "execution_count": 49,
      "outputs": [
        {
          "output_type": "display_data",
          "data": {
            "image/png": "[encoded data removed]",
            "text/plain": [
              "<Figure size 432x288 with 1 Axes>"
            ]
          },
          "metadata": {
            "tags": [],
            "needs_background": "light"
          }
        }
      ]
    },
    {
      "cell_type": "code",
      "metadata": {
        "id": "fCUbk4X0wjIx"
      },
      "source": [
        "model = model_fn()\n",
        "model.compile(loss='sparse_categorical_crossentropy', metrics='accuracy')"
      ],
      "execution_count": 50,
      "outputs": []
    },
    {
      "cell_type": "code",
      "metadata": {
        "id": "AetYUgnY5VFZ"
      },
      "source": [
        "history = model.fit(train_scaled, train_target, epochs=20, verbose=0,\n",
        "                    validation_data=(val_scaled, val_target))"
      ],
      "execution_count": 51,
      "outputs": []
    },
    {
      "cell_type": "code",
      "metadata": {
        "colab": {
          "base_uri": "https://localhost:8080/"
        },
        "id": "qmsnL0ix5VHt",
        "outputId": "5436805d-6484-44ad-f287-9681bbe112da"
      },
      "source": [
        "print(history.history.keys())"
      ],
      "execution_count": 52,
      "outputs": [
        {
          "output_type": "stream",
          "text": [
            "dict_keys(['loss', 'accuracy', 'val_loss', 'val_accuracy'])\n"
          ],
          "name": "stdout"
        }
      ]
    },
    {
      "cell_type": "code",
      "metadata": {
        "colab": {
          "base_uri": "https://localhost:8080/",
          "height": 279
        },
        "id": "H-yWxfQC5VJs",
        "outputId": "292faa98-99af-4637-ebfb-1807e49295e9"
      },
      "source": [
        "plt.plot(history.history['loss'])\n",
        "plt.plot(history.history['val_loss'])\n",
        "plt.xlabel('epoch')\n",
        "plt.ylabel('loss')\n",
        "plt.legend(['train','val'])\n",
        "plt.show()"
      ],
      "execution_count": 53,
      "outputs": [
        {
          "output_type": "display_data",
          "data": {
            "image/png": "[encoded data removed]",
            "text/plain": [
              "<Figure size 432x288 with 1 Axes>"
            ]
          },
          "metadata": {
            "tags": [],
            "needs_background": "light"
          }
        }
      ]
    },
    {
      "cell_type": "code",
      "metadata": {
        "colab": {
          "base_uri": "https://localhost:8080/",
          "height": 279
        },
        "id": "DVHYgLjD5VLj",
        "outputId": "a02d3203-78ff-4d4d-82cf-12b68d72a4b4"
      },
      "source": [
        "model = model_fn()\n",
        "\n",
        "model.compile(optimizer = 'adam', loss= 'sparse_categorical_crossentropy', metrics = 'accuracy')\n",
        "history = model.fit(train_scaled, train_target, epochs=20, verbose=0,\n",
        "                    validation_data =(val_scaled, val_target))\n",
        "\n",
        "plt.plot(history.history['loss'])\n",
        "plt.plot(history.history['val_loss'])\n",
        "plt.xlabel('epoch')\n",
        "plt.ylabel('loss')\n",
        "plt.legend(['train','val'])\n",
        "plt.show()"
      ],
      "execution_count": 54,
      "outputs": [
        {
          "output_type": "display_data",
          "data": {
            "image/png": "[encoded data removed]",
            "text/plain": [
              "<Figure size 432x288 with 1 Axes>"
            ]
          },
          "metadata": {
            "tags": [],
            "needs_background": "light"
          }
        }
      ]
    },
    {
      "cell_type": "markdown",
      "metadata": {
        "id": "TVrvwd808O_y"
      },
      "source": [
        "## 드롭아웃 \n",
        "\n",
        "훈련과정중에서 층에 있는 일부 뉴런을 랜덤하게 꺼서 과대적합을 막는다.\n"
      ]
    },
    {
      "cell_type": "code",
      "metadata": {
        "colab": {
          "base_uri": "https://localhost:8080/"
        },
        "id": "HJdzV2rD5VNp",
        "outputId": "5478660b-e1af-4875-9acf-5a6b6f032109"
      },
      "source": [
        "model = model_fn(keras.layers.Dropout(0.3))\n",
        "model.summary()"
      ],
      "execution_count": 55,
      "outputs": [
        {
          "output_type": "stream",
          "text": [
            "Model: \"sequential_9\"\n",
            "_________________________________________________________________\n",
            "Layer (type)                 Output Shape              Param #   \n",
            "=================================================================\n",
            "flatten_6 (Flatten)          (None, 784)               0         \n",
            "_________________________________________________________________\n",
            "dense_17 (Dense)             (None, 100)               78500     \n",
            "_________________________________________________________________\n",
            "dropout (Dropout)            (None, 100)               0         \n",
            "_________________________________________________________________\n",
            "dense_18 (Dense)             (None, 10)                1010      \n",
            "=================================================================\n",
            "Total params: 79,510\n",
            "Trainable params: 79,510\n",
            "Non-trainable params: 0\n",
            "_________________________________________________________________\n"
          ],
          "name": "stdout"
        }
      ]
    },
    {
      "cell_type": "code",
      "metadata": {
        "colab": {
          "base_uri": "https://localhost:8080/",
          "height": 279
        },
        "id": "IEJbbnGX8TiC",
        "outputId": "b62f02c7-ce7e-49b3-82e2-018cb214bf8b"
      },
      "source": [
        "model.compile(optimizer='adam' , loss='sparse_categorical_crossentropy', metrics = 'accuracy')\n",
        "\n",
        "history = model.fit(train_scaled, train_target, epochs=20, verbose=0,\n",
        "                    validation_data=(val_scaled, val_target))\n",
        "\n",
        "plt.plot(history.history['loss'])\n",
        "plt.plot(history.history['val_loss'])\n",
        "plt.xlabel('epoch')\n",
        "plt.ylabel('loss')\n",
        "plt.legend(['train','val'])\n",
        "plt.show()\n"
      ],
      "execution_count": 57,
      "outputs": [
        {
          "output_type": "display_data",
          "data": {
            "image/png": "[encoded data removed]",
            "text/plain": [
              "<Figure size 432x288 with 1 Axes>"
            ]
          },
          "metadata": {
            "tags": [],
            "needs_background": "light"
          }
        }
      ]
    },
    {
      "cell_type": "markdown",
      "metadata": {
        "id": "4_o5X2XaOSm1"
      },
      "source": [
        "과대 적합이 줄어들었음을 볼 수 있음 "
      ]
    },
    {
      "cell_type": "markdown",
      "metadata": {
        "id": "vMnFVeqNOdCC"
      },
      "source": [
        "## 모델 저장과 복원 "
      ]
    },
    {
      "cell_type": "code",
      "metadata": {
        "id": "Mv73_tFd8Tku"
      },
      "source": [
        "model = model_fn(keras.layers.Dropout(0.3))\n",
        "model.compile(optimizer='adam',loss='sparse_categorical_crossentropy', metrics='accuracy')\n",
        "history = model.fit(train_scaled, train_target, epochs=10, verbose=0,\n",
        "                    validation_data=(val_scaled, val_target))"
      ],
      "execution_count": 58,
      "outputs": []
    },
    {
      "cell_type": "code",
      "metadata": {
        "id": "X9QS9FPU8TpB"
      },
      "source": [
        "model.save_weights('model-weights.h5')"
      ],
      "execution_count": 59,
      "outputs": []
    },
    {
      "cell_type": "code",
      "metadata": {
        "id": "vgTF_ekc8TrO"
      },
      "source": [
        "model.save('model-whole.h5')"
      ],
      "execution_count": 60,
      "outputs": []
    },
    {
      "cell_type": "code",
      "metadata": {
        "colab": {
          "base_uri": "https://localhost:8080/"
        },
        "id": "OXzV6TFk8TuB",
        "outputId": "ffc89e19-0883-4bc5-e208-60a1a837cb49"
      },
      "source": [
        "!ls -al *.h5"
      ],
      "execution_count": 61,
      "outputs": [
        {
          "output_type": "stream",
          "text": [
            "-rw-r--r-- 1 root root 332480 Jun  7 11:31 model-weights.h5\n",
            "-rw-r--r-- 1 root root 981736 Jun  7 11:32 model-whole.h5\n"
          ],
          "name": "stdout"
        }
      ]
    },
    {
      "cell_type": "markdown",
      "metadata": {
        "id": "5nRzLJrIP4x_"
      },
      "source": [
        "> 1. 훈련을 하지 않은 새로운 모델을 만들고 model-weights.h5 파일에서 훈련된 모델 파라미터를 읽어서 사용한다. \n",
        "2. 아예 model-whole.h5 파일에서 새로운 모델을 만들어 바로 사용한다. "
      ]
    },
    {
      "cell_type": "code",
      "metadata": {
        "id": "yZIsFONV8TwE"
      },
      "source": [
        "model = model_fn(keras.layers.Dropout(0.3))\n",
        "model.load_weights('model-weights.h5')"
      ],
      "execution_count": 62,
      "outputs": []
    },
    {
      "cell_type": "code",
      "metadata": {
        "colab": {
          "base_uri": "https://localhost:8080/"
        },
        "id": "Q2PntFPV8Tyv",
        "outputId": "a6cffd9e-87ff-40f2-8fc4-221f2af2317f"
      },
      "source": [
        "import numpy as np\n",
        "val_labels = np.argmax(model.predict(val_scaled), axis=-1)\n",
        "print(np.mean(val_labels == val_target))"
      ],
      "execution_count": 63,
      "outputs": [
        {
          "output_type": "stream",
          "text": [
            "0.8816666666666667\n"
          ],
          "name": "stdout"
        }
      ]
    },
    {
      "cell_type": "code",
      "metadata": {
        "colab": {
          "base_uri": "https://localhost:8080/"
        },
        "id": "VPjCd1nE8T0x",
        "outputId": "117ea943-b028-41fc-c195-dae209d9e586"
      },
      "source": [
        "model = keras.models.load_model('model-whole.h5')\n",
        "model.evaluate(val_scaled, val_target)"
      ],
      "execution_count": 64,
      "outputs": [
        {
          "output_type": "stream",
          "text": [
            "375/375 [==============================] - 1s 1ms/step - loss: 0.3272 - accuracy: 0.8817\n"
          ],
          "name": "stdout"
        },
        {
          "output_type": "execute_result",
          "data": {
            "text/plain": [
              "[0.32722359895706177, 0.8816666603088379]"
            ]
          },
          "metadata": {
            "tags": []
          },
          "execution_count": 64
        }
      ]
    },
    {
      "cell_type": "markdown",
      "metadata": {
        "id": "P1j6PA5fTSap"
      },
      "source": [
        "## 콜백"
      ]
    },
    {
      "cell_type": "code",
      "metadata": {
        "colab": {
          "base_uri": "https://localhost:8080/"
        },
        "id": "xdeJaxvaSwFB",
        "outputId": "359169a4-4d2c-4d6b-dbd0-d52ac072ec78"
      },
      "source": [
        "model = model_fn(keras.layers.Dropout(0.3))\n",
        "model.compile(optimizer='adam', loss='sparse_categorical_crossentropy',\n",
        "              metrics='accuracy')\n",
        "checkpoint_cb = keras.callbacks.ModelCheckpoint('best-model.h5')\n",
        "model.fit(train_scaled, train_target, epochs=20, verbose=0,\n",
        "          validation_data=(val_scaled, val_target),\n",
        "          callbacks=[checkpoint_cb])"
      ],
      "execution_count": 65,
      "outputs": [
        {
          "output_type": "execute_result",
          "data": {
            "text/plain": [
              "<tensorflow.python.keras.callbacks.History at 0x7f40cf7ea050>"
            ]
          },
          "metadata": {
            "tags": []
          },
          "execution_count": 65
        }
      ]
    },
    {
      "cell_type": "markdown",
      "metadata": {
        "id": "KfXjvf3wUxiN"
      },
      "source": [
        "모델이 훈련한 후에 best-model.h5 최상의 검증 점수를 낸 모델이 저장된다. \n",
        "이 모델을 load_model() 함수로 다시 읽어서 예측을 수행한다. "
      ]
    },
    {
      "cell_type": "code",
      "metadata": {
        "colab": {
          "base_uri": "https://localhost:8080/"
        },
        "id": "aZqHQ8nNSwIg",
        "outputId": "0064060b-d59d-4af6-a021-15b7736af4eb"
      },
      "source": [
        "model = keras.models.load_model('best-model.h5')\n",
        "model.evaluate(val_scaled, val_target)"
      ],
      "execution_count": 66,
      "outputs": [
        {
          "output_type": "stream",
          "text": [
            "375/375 [==============================] - 1s 1ms/step - loss: 0.3314 - accuracy: 0.8846\n"
          ],
          "name": "stdout"
        },
        {
          "output_type": "execute_result",
          "data": {
            "text/plain": [
              "[0.3313649594783783, 0.8845833539962769]"
            ]
          },
          "metadata": {
            "tags": []
          },
          "execution_count": 66
        }
      ]
    },
    {
      "cell_type": "markdown",
      "metadata": {
        "id": "4QxnykgAVdsg"
      },
      "source": [
        "과대 적합이 되기전에 훈련을 중지하는 것 = 조기 종료"
      ]
    },
    {
      "cell_type": "code",
      "metadata": {
        "id": "AAkHtwu5SwLO"
      },
      "source": [
        "model = model_fn(keras.layers.Dropout(0.3))\n",
        "model.compile(optimizer='adam', loss='sparse_categorical_crossentropy',\n",
        "              metrics='accuracy')\n",
        "checkpoint_cb = keras.callbacks.ModelCheckpoint('best-model.h5')\n",
        "\n",
        "early_stopping_cb = keras.callbacks.EarlyStopping(patience=2, restore_best_weights=True)\n",
        "\n",
        "history = model.fit(train_scaled, train_target, epochs=20, verbose=0,\n",
        "          validation_data=(val_scaled, val_target),\n",
        "          callbacks=[checkpoint_cb])"
      ],
      "execution_count": 70,
      "outputs": []
    },
    {
      "cell_type": "code",
      "metadata": {
        "colab": {
          "base_uri": "https://localhost:8080/"
        },
        "id": "kpiTptE_SwN-",
        "outputId": "c4ecbc7c-2523-421b-9707-8ed6545ca740"
      },
      "source": [
        "print(early_stopping_cb.stopped_epoch)"
      ],
      "execution_count": 71,
      "outputs": [
        {
          "output_type": "stream",
          "text": [
            "0\n"
          ],
          "name": "stdout"
        }
      ]
    },
    {
      "cell_type": "code",
      "metadata": {
        "colab": {
          "base_uri": "https://localhost:8080/",
          "height": 279
        },
        "id": "aoIUGQuuXb1w",
        "outputId": "461ee981-4e56-4ea3-dee9-dfc3ff53637d"
      },
      "source": [
        "plt.plot(history.history['loss'])\n",
        "plt.plot(history.history['val_loss'])\n",
        "plt.xlabel('epoch')\n",
        "plt.ylabel('loss')\n",
        "plt.legend(['train','val'])\n",
        "plt.show()\n",
        "\n"
      ],
      "execution_count": 72,
      "outputs": [
        {
          "output_type": "display_data",
          "data": {
            "image/png": "[encoded data removed]",
            "text/plain": [
              "<Figure size 432x288 with 1 Axes>"
            ]
          },
          "metadata": {
            "tags": [],
            "needs_background": "light"
          }
        }
      ]
    },
    {
      "cell_type": "code",
      "metadata": {
        "colab": {
          "base_uri": "https://localhost:8080/"
        },
        "id": "lu710i8LXb4u",
        "outputId": "0357d6c9-ad1e-401c-9e97-7df37a0b285a"
      },
      "source": [
        "model.evaluate(val_scaled, val_target)"
      ],
      "execution_count": 73,
      "outputs": [
        {
          "output_type": "stream",
          "text": [
            "375/375 [==============================] - 0s 1ms/step - loss: 0.3435 - accuracy: 0.8788\n"
          ],
          "name": "stdout"
        },
        {
          "output_type": "execute_result",
          "data": {
            "text/plain": [
              "[0.34350207448005676, 0.8787500262260437]"
            ]
          },
          "metadata": {
            "tags": []
          },
          "execution_count": 73
        }
      ]
    }
  ]
}