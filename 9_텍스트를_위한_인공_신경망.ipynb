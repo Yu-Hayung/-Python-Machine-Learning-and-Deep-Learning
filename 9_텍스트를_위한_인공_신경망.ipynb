{
  "nbformat": 4,
  "nbformat_minor": 0,
  "metadata": {
    "colab": {
      "name": "9. 텍스트를 위한 인공 신경망.ipynb",
      "provenance": [],
      "authorship_tag": "ABX9TyOlO2c9Y1OTB4+/LwWJ9rdY",
      "include_colab_link": true
    },
    "kernelspec": {
      "name": "python3",
      "display_name": "Python 3"
    },
    "language_info": {
      "name": "python"
    }
  },
  "cells": [
    {
      "cell_type": "markdown",
      "metadata": {
        "id": "view-in-github",
        "colab_type": "text"
      },
      "source": [
        "<a href=\"https://colab.research.google.com/github/Yu-Hayung/Python-Machine-Learning-and-Deep-Learning/blob/main/9_%ED%85%8D%EC%8A%A4%ED%8A%B8%EB%A5%BC_%EC%9C%84%ED%95%9C_%EC%9D%B8%EA%B3%B5_%EC%8B%A0%EA%B2%BD%EB%A7%9D.ipynb\" target=\"_parent\"><img src=\"https://colab.research.google.com/assets/colab-badge.svg\" alt=\"Open In Colab\"/></a>"
      ]
    },
    {
      "cell_type": "markdown",
      "metadata": {
        "id": "PAby7LixIDl6"
      },
      "source": [
        "# 텍스트를 위한 인공 신경망 \n",
        "\n",
        "## 순차 데이터와 순환 신경망 "
      ]
    },
    {
      "cell_type": "markdown",
      "metadata": {
        "id": "-woa8WKqIWCC"
      },
      "source": [
        "## 순환 신경망으로 IMDB 리뷰 분류 하기 "
      ]
    },
    {
      "cell_type": "code",
      "metadata": {
        "colab": {
          "base_uri": "https://localhost:8080/"
        },
        "id": "d0RzX8v3H9lO",
        "outputId": "7ebccd02-3ddf-49de-ee4e-1c612f0a728e"
      },
      "source": [
        "from tensorflow.keras.datasets import imdb\n",
        "\n",
        "(train_input, train_target), (test_input, test_target) = imdb.load_data(num_words=500)"
      ],
      "execution_count": 1,
      "outputs": [
        {
          "output_type": "stream",
          "text": [
            "Downloading data from https://storage.googleapis.com/tensorflow/tf-keras-datasets/imdb.npz\n",
            "17465344/17464789 [==============================] - 0s 0us/step\n"
          ],
          "name": "stdout"
        },
        {
          "output_type": "stream",
          "text": [
            "<string>:6: VisibleDeprecationWarning: Creating an ndarray from ragged nested sequences (which is a list-or-tuple of lists-or-tuples-or ndarrays with different lengths or shapes) is deprecated. If you meant to do this, you must specify 'dtype=object' when creating the ndarray\n",
            "/usr/local/lib/python3.7/dist-packages/tensorflow/python/keras/datasets/imdb.py:155: VisibleDeprecationWarning: Creating an ndarray from ragged nested sequences (which is a list-or-tuple of lists-or-tuples-or ndarrays with different lengths or shapes) is deprecated. If you meant to do this, you must specify 'dtype=object' when creating the ndarray\n",
            "  x_train, y_train = np.array(xs[:idx]), np.array(labels[:idx])\n",
            "/usr/local/lib/python3.7/dist-packages/tensorflow/python/keras/datasets/imdb.py:156: VisibleDeprecationWarning: Creating an ndarray from ragged nested sequences (which is a list-or-tuple of lists-or-tuples-or ndarrays with different lengths or shapes) is deprecated. If you meant to do this, you must specify 'dtype=object' when creating the ndarray\n",
            "  x_test, y_test = np.array(xs[idx:]), np.array(labels[idx:])\n"
          ],
          "name": "stderr"
        }
      ]
    },
    {
      "cell_type": "code",
      "metadata": {
        "colab": {
          "base_uri": "https://localhost:8080/"
        },
        "id": "4qIy-pnqIJ9g",
        "outputId": "d4a91cba-a6bc-4271-ee36-59bba88c93c8"
      },
      "source": [
        "print(train_input.shape, test_input.shape) \n",
        "\n",
        "# 2차원 배열에 담기 보다는 리뷰 마다 별도의 파이썬 리스트로 담아야 메모리를 효율적으로 사용할 수 있다. "
      ],
      "execution_count": 2,
      "outputs": [
        {
          "output_type": "stream",
          "text": [
            "(25000,) (25000,)\n"
          ],
          "name": "stdout"
        }
      ]
    },
    {
      "cell_type": "code",
      "metadata": {
        "colab": {
          "base_uri": "https://localhost:8080/"
        },
        "id": "JNCNFrcJIJ_o",
        "outputId": "c9c66554-1328-4eb4-cd24-554f65bcee70"
      },
      "source": [
        "print(len(train_input[0]))"
      ],
      "execution_count": 3,
      "outputs": [
        {
          "output_type": "stream",
          "text": [
            "218\n"
          ],
          "name": "stdout"
        }
      ]
    },
    {
      "cell_type": "code",
      "metadata": {
        "colab": {
          "base_uri": "https://localhost:8080/"
        },
        "id": "74coO9X_IKBt",
        "outputId": "d852c58e-42bb-4ca1-a84e-ff0c14658c4e"
      },
      "source": [
        "print(len(train_input[1]))"
      ],
      "execution_count": 4,
      "outputs": [
        {
          "output_type": "stream",
          "text": [
            "189\n"
          ],
          "name": "stdout"
        }
      ]
    },
    {
      "cell_type": "code",
      "metadata": {
        "colab": {
          "base_uri": "https://localhost:8080/"
        },
        "id": "Wn1V3Tb4IKDn",
        "outputId": "7de58524-d038-4886-9bac-2002fc97ae75"
      },
      "source": [
        "print(train_input[0])"
      ],
      "execution_count": 5,
      "outputs": [
        {
          "output_type": "stream",
          "text": [
            "[1, 14, 22, 16, 43, 2, 2, 2, 2, 65, 458, 2, 66, 2, 4, 173, 36, 256, 5, 25, 100, 43, 2, 112, 50, 2, 2, 9, 35, 480, 284, 5, 150, 4, 172, 112, 167, 2, 336, 385, 39, 4, 172, 2, 2, 17, 2, 38, 13, 447, 4, 192, 50, 16, 6, 147, 2, 19, 14, 22, 4, 2, 2, 469, 4, 22, 71, 87, 12, 16, 43, 2, 38, 76, 15, 13, 2, 4, 22, 17, 2, 17, 12, 16, 2, 18, 2, 5, 62, 386, 12, 8, 316, 8, 106, 5, 4, 2, 2, 16, 480, 66, 2, 33, 4, 130, 12, 16, 38, 2, 5, 25, 124, 51, 36, 135, 48, 25, 2, 33, 6, 22, 12, 215, 28, 77, 52, 5, 14, 407, 16, 82, 2, 8, 4, 107, 117, 2, 15, 256, 4, 2, 7, 2, 5, 2, 36, 71, 43, 2, 476, 26, 400, 317, 46, 7, 4, 2, 2, 13, 104, 88, 4, 381, 15, 297, 98, 32, 2, 56, 26, 141, 6, 194, 2, 18, 4, 226, 22, 21, 134, 476, 26, 480, 5, 144, 30, 2, 18, 51, 36, 28, 224, 92, 25, 104, 4, 226, 65, 16, 38, 2, 88, 12, 16, 283, 5, 16, 2, 113, 103, 32, 15, 16, 2, 19, 178, 32]\n"
          ],
          "name": "stdout"
        }
      ]
    },
    {
      "cell_type": "code",
      "metadata": {
        "colab": {
          "base_uri": "https://localhost:8080/"
        },
        "id": "AvYnmbk1IKFw",
        "outputId": "fdf6e0e8-aee3-4367-9dd9-44ae9b54aa91"
      },
      "source": [
        "print(train_target[:20])"
      ],
      "execution_count": 6,
      "outputs": [
        {
          "output_type": "stream",
          "text": [
            "[1 0 0 1 0 0 1 0 1 0 1 0 0 0 0 0 1 1 0 1]\n"
          ],
          "name": "stdout"
        }
      ]
    },
    {
      "cell_type": "code",
      "metadata": {
        "id": "c9jN3uMRIKH3"
      },
      "source": [
        "from sklearn.model_selection import train_test_split\n",
        "train_input, val_input, train_target, val_target = train_test_split(\n",
        "    train_input, train_target, test_size=0.2, random_state=42)"
      ],
      "execution_count": 7,
      "outputs": []
    },
    {
      "cell_type": "code",
      "metadata": {
        "id": "jqMkxDDDIKKC"
      },
      "source": [
        "import numpy as np\n",
        "lengths = np.array([len(x) for x in train_input])"
      ],
      "execution_count": 8,
      "outputs": []
    },
    {
      "cell_type": "code",
      "metadata": {
        "colab": {
          "base_uri": "https://localhost:8080/"
        },
        "id": "t23aTGfnIKMQ",
        "outputId": "47c6545f-b78e-4d52-a096-c527ef269503"
      },
      "source": [
        "print(np.mean(lengths), np.median(lengths))"
      ],
      "execution_count": 9,
      "outputs": [
        {
          "output_type": "stream",
          "text": [
            "239.00925 178.0\n"
          ],
          "name": "stdout"
        }
      ]
    },
    {
      "cell_type": "code",
      "metadata": {
        "colab": {
          "base_uri": "https://localhost:8080/",
          "height": 279
        },
        "id": "DyL93NssIKOi",
        "outputId": "a68ead53-43ed-4007-ee9f-a1236f9b6021"
      },
      "source": [
        "import matplotlib.pyplot as plt\n",
        "plt.hist(lengths)\n",
        "plt.xlabel('length')\n",
        "plt.ylabel('frequency')\n",
        "plt.show()"
      ],
      "execution_count": 10,
      "outputs": [
        {
          "output_type": "display_data",
          "data": {
            "image/png": "[encoded data removed]",
            "text/plain": [
              "<Figure size 432x288 with 1 Axes>"
            ]
          },
          "metadata": {
            "tags": [],
            "needs_background": "light"
          }
        }
      ]
    },
    {
      "cell_type": "code",
      "metadata": {
        "id": "y4i5M2H0IKQp"
      },
      "source": [
        "from tensorflow.keras.preprocessing.sequence import pad_sequences\n",
        "train_seq = pad_sequences(train_input, maxlen=100)"
      ],
      "execution_count": 11,
      "outputs": []
    },
    {
      "cell_type": "code",
      "metadata": {
        "colab": {
          "base_uri": "https://localhost:8080/"
        },
        "id": "InvnDJgIIKTA",
        "outputId": "666bebff-247a-40ff-b45a-e363013c573e"
      },
      "source": [
        "print(train_seq.shape)"
      ],
      "execution_count": 13,
      "outputs": [
        {
          "output_type": "stream",
          "text": [
            "(20000, 100)\n"
          ],
          "name": "stdout"
        }
      ]
    },
    {
      "cell_type": "code",
      "metadata": {
        "colab": {
          "base_uri": "https://localhost:8080/"
        },
        "id": "jS7WCE7-IKVD",
        "outputId": "c362a11c-a65b-44cb-8608-95bf90b0e5f6"
      },
      "source": [
        "print(train_seq[0])"
      ],
      "execution_count": 17,
      "outputs": [
        {
          "output_type": "stream",
          "text": [
            "[ 10   4  20   9   2 364 352   5  45   6   2   2  33 269   8   2 142   2\n",
            "   5   2  17  73  17 204   5   2  19  55   2   2  92  66 104  14  20  93\n",
            "  76   2 151  33   4  58  12 188   2 151  12 215  69 224 142  73 237   6\n",
            "   2   7   2   2 188   2 103  14  31  10  10 451   7   2   5   2  80  91\n",
            "   2  30   2  34  14  20 151  50  26 131  49   2  84  46  50  37  80  79\n",
            "   6   2  46   7  14  20  10  10 470 158]\n"
          ],
          "name": "stdout"
        }
      ]
    },
    {
      "cell_type": "code",
      "metadata": {
        "colab": {
          "base_uri": "https://localhost:8080/"
        },
        "id": "ulQxwbJNIKXZ",
        "outputId": "fa7d36b5-b05b-45c4-ccd5-07cc0466368e"
      },
      "source": [
        "print(train_input[0][-10:])"
      ],
      "execution_count": 18,
      "outputs": [
        {
          "output_type": "stream",
          "text": [
            "[6, 2, 46, 7, 14, 20, 10, 10, 470, 158]\n"
          ],
          "name": "stdout"
        }
      ]
    },
    {
      "cell_type": "code",
      "metadata": {
        "colab": {
          "base_uri": "https://localhost:8080/"
        },
        "id": "6RrD-v0xIKZv",
        "outputId": "b67e27eb-44a3-4df6-9cdb-5bb1338f3ce5"
      },
      "source": [
        "print(train_seq[5])"
      ],
      "execution_count": 20,
      "outputs": [
        {
          "output_type": "stream",
          "text": [
            "[  0   0   0   0   1   2 195  19  49   2   2 190   4   2 352   2 183  10\n",
            "  10  13  82  79   4   2  36  71 269   8   2  25  19  49   7   4   2   2\n",
            "   2   2   2  10  10  48  25  40   2  11   2   2  40   2   2   5   4   2\n",
            "   2  95  14 238  56 129   2  10  10  21   2  94 364 352   2   2  11 190\n",
            "  24 484   2   7  94 205 405  10  10  87   2  34  49   2   7   2   2   2\n",
            "   2   2 290   2  46  48  64  18   4   2]\n"
          ],
          "name": "stdout"
        }
      ]
    },
    {
      "cell_type": "code",
      "metadata": {
        "id": "7PjRUDeUIKb2"
      },
      "source": [
        "val_seq = pad_sequences(val_input, maxlen=100)"
      ],
      "execution_count": 21,
      "outputs": []
    },
    {
      "cell_type": "markdown",
      "metadata": {
        "id": "At-8P8nZLNZA"
      },
      "source": [
        "## 순환 신경망 만들기 "
      ]
    },
    {
      "cell_type": "code",
      "metadata": {
        "id": "ej65v9BvIKeM"
      },
      "source": [
        "from tensorflow import keras\n",
        "\n",
        "model = keras.Sequential()\n",
        "model.add(keras.layers.SimpleRNN(8, input_shape=(100,500)))\n",
        "model.add(keras.layers.Dense(1, activation='sigmoid'))"
      ],
      "execution_count": 22,
      "outputs": []
    },
    {
      "cell_type": "code",
      "metadata": {
        "colab": {
          "base_uri": "https://localhost:8080/"
        },
        "id": "SKETlGwdIKgj",
        "outputId": "6d5b2dc1-7dd7-47d0-dac7-3a373a57cb4b"
      },
      "source": [
        "train_oh = keras.utils.to_categorical(train_seq)\n",
        "print(train_oh.shape)"
      ],
      "execution_count": 23,
      "outputs": [
        {
          "output_type": "stream",
          "text": [
            "(20000, 100, 500)\n"
          ],
          "name": "stdout"
        }
      ]
    },
    {
      "cell_type": "code",
      "metadata": {
        "colab": {
          "base_uri": "https://localhost:8080/"
        },
        "id": "tY4QiJnzIKir",
        "outputId": "edb5f9d7-8505-4f14-9641-c88abc2dc012"
      },
      "source": [
        "print(train_oh[0][0][:12])"
      ],
      "execution_count": 25,
      "outputs": [
        {
          "output_type": "stream",
          "text": [
            "[0. 0. 0. 0. 0. 0. 0. 0. 0. 0. 1. 0.]\n"
          ],
          "name": "stdout"
        }
      ]
    },
    {
      "cell_type": "code",
      "metadata": {
        "colab": {
          "base_uri": "https://localhost:8080/"
        },
        "id": "yZZ8e50VIKk9",
        "outputId": "538ae6ee-733d-46a2-cbd3-fad0c7795020"
      },
      "source": [
        "print(np.sum(train_oh[0][0]))"
      ],
      "execution_count": 26,
      "outputs": [
        {
          "output_type": "stream",
          "text": [
            "1.0\n"
          ],
          "name": "stdout"
        }
      ]
    },
    {
      "cell_type": "code",
      "metadata": {
        "colab": {
          "base_uri": "https://localhost:8080/"
        },
        "id": "WEiafB2HIKnT",
        "outputId": "615b1333-dc8b-4cd0-fc9a-a495d51ff1f1"
      },
      "source": [
        "val_oh = keras.utils.to_categorical(val_seq)\n",
        "\n",
        "model.summary()\n"
      ],
      "execution_count": 29,
      "outputs": [
        {
          "output_type": "stream",
          "text": [
            "Model: \"sequential\"\n",
            "_________________________________________________________________\n",
            "Layer (type)                 Output Shape              Param #   \n",
            "=================================================================\n",
            "simple_rnn (SimpleRNN)       (None, 8)                 4072      \n",
            "_________________________________________________________________\n",
            "dense (Dense)                (None, 1)                 9         \n",
            "=================================================================\n",
            "Total params: 4,081\n",
            "Trainable params: 4,081\n",
            "Non-trainable params: 0\n",
            "_________________________________________________________________\n"
          ],
          "name": "stdout"
        }
      ]
    },
    {
      "cell_type": "markdown",
      "metadata": {
        "id": "K_zPMKZVM0sg"
      },
      "source": [
        "## 순환 신경망 훈련하기 "
      ]
    },
    {
      "cell_type": "code",
      "metadata": {
        "id": "TKyfufS6IKpd"
      },
      "source": [
        "rmsprop = keras.optimizers.RMSprop(learning_rate=1e-4)\n",
        "model.compile(optimizer=rmsprop, loss='binary_crossentropy', metrics=['accuracy'])"
      ],
      "execution_count": 30,
      "outputs": []
    },
    {
      "cell_type": "code",
      "metadata": {
        "id": "LVMhSSA6IKrk"
      },
      "source": [
        "checkpoint_cb = keras.callbacks.ModelCheckpoint('best-simplernn-model.h5')\n",
        "early_stopping_cb = keras.callbacks.EarlyStopping(patience=3,\n",
        "                                                  restore_best_weights=True)"
      ],
      "execution_count": 31,
      "outputs": []
    },
    {
      "cell_type": "code",
      "metadata": {
        "colab": {
          "base_uri": "https://localhost:8080/"
        },
        "id": "WE8SU4MeIKtr",
        "outputId": "b0f04e60-cf90-40a7-947c-28780b11c00e"
      },
      "source": [
        "history = model.fit(train_oh, train_target, epochs=100, batch_size=64,\n",
        "                    validation_data=(val_oh, val_target),\n",
        "                    callbacks=[checkpoint_cb, early_stopping_cb])"
      ],
      "execution_count": 32,
      "outputs": [
        {
          "output_type": "stream",
          "text": [
            "Epoch 1/100\n",
            "313/313 [==============================] - 14s 41ms/step - loss: 0.6973 - accuracy: 0.5031 - val_loss: 0.6972 - val_accuracy: 0.5040\n",
            "Epoch 2/100\n",
            "313/313 [==============================] - 13s 40ms/step - loss: 0.6944 - accuracy: 0.5104 - val_loss: 0.6956 - val_accuracy: 0.5044\n",
            "Epoch 3/100\n",
            "313/313 [==============================] - 13s 40ms/step - loss: 0.6922 - accuracy: 0.5200 - val_loss: 0.6943 - val_accuracy: 0.5122\n",
            "Epoch 4/100\n",
            "313/313 [==============================] - 13s 40ms/step - loss: 0.6902 - accuracy: 0.5303 - val_loss: 0.6930 - val_accuracy: 0.5186\n",
            "Epoch 5/100\n",
            "313/313 [==============================] - 13s 40ms/step - loss: 0.6883 - accuracy: 0.5418 - val_loss: 0.6917 - val_accuracy: 0.5190\n",
            "Epoch 6/100\n",
            "313/313 [==============================] - 12s 40ms/step - loss: 0.6861 - accuracy: 0.5526 - val_loss: 0.6900 - val_accuracy: 0.5286\n",
            "Epoch 7/100\n",
            "313/313 [==============================] - 12s 39ms/step - loss: 0.6834 - accuracy: 0.5633 - val_loss: 0.6873 - val_accuracy: 0.5416\n",
            "Epoch 8/100\n",
            "313/313 [==============================] - 12s 40ms/step - loss: 0.6779 - accuracy: 0.5846 - val_loss: 0.6780 - val_accuracy: 0.5792\n",
            "Epoch 9/100\n",
            "313/313 [==============================] - 12s 40ms/step - loss: 0.6453 - accuracy: 0.6435 - val_loss: 0.6370 - val_accuracy: 0.6470\n",
            "Epoch 10/100\n",
            "313/313 [==============================] - 13s 40ms/step - loss: 0.6161 - accuracy: 0.6788 - val_loss: 0.6157 - val_accuracy: 0.6750\n",
            "Epoch 11/100\n",
            "313/313 [==============================] - 13s 40ms/step - loss: 0.5957 - accuracy: 0.6974 - val_loss: 0.5976 - val_accuracy: 0.6918\n",
            "Epoch 12/100\n",
            "313/313 [==============================] - 13s 40ms/step - loss: 0.5767 - accuracy: 0.7145 - val_loss: 0.5820 - val_accuracy: 0.7070\n",
            "Epoch 13/100\n",
            "313/313 [==============================] - 12s 40ms/step - loss: 0.5593 - accuracy: 0.7276 - val_loss: 0.5661 - val_accuracy: 0.7202\n",
            "Epoch 14/100\n",
            "313/313 [==============================] - 12s 40ms/step - loss: 0.5455 - accuracy: 0.7380 - val_loss: 0.5519 - val_accuracy: 0.7306\n",
            "Epoch 15/100\n",
            "313/313 [==============================] - 13s 40ms/step - loss: 0.5310 - accuracy: 0.7502 - val_loss: 0.5442 - val_accuracy: 0.7358\n",
            "Epoch 16/100\n",
            "313/313 [==============================] - 13s 40ms/step - loss: 0.5185 - accuracy: 0.7589 - val_loss: 0.5299 - val_accuracy: 0.7474\n",
            "Epoch 17/100\n",
            "313/313 [==============================] - 12s 40ms/step - loss: 0.5079 - accuracy: 0.7660 - val_loss: 0.5260 - val_accuracy: 0.7494\n",
            "Epoch 18/100\n",
            "313/313 [==============================] - 13s 40ms/step - loss: 0.4982 - accuracy: 0.7724 - val_loss: 0.5147 - val_accuracy: 0.7566\n",
            "Epoch 19/100\n",
            "313/313 [==============================] - 13s 40ms/step - loss: 0.4899 - accuracy: 0.7781 - val_loss: 0.5100 - val_accuracy: 0.7614\n",
            "Epoch 20/100\n",
            "313/313 [==============================] - 12s 40ms/step - loss: 0.4820 - accuracy: 0.7814 - val_loss: 0.4986 - val_accuracy: 0.7698\n",
            "Epoch 21/100\n",
            "313/313 [==============================] - 13s 40ms/step - loss: 0.4752 - accuracy: 0.7865 - val_loss: 0.4986 - val_accuracy: 0.7648\n",
            "Epoch 22/100\n",
            "313/313 [==============================] - 13s 40ms/step - loss: 0.4693 - accuracy: 0.7899 - val_loss: 0.4893 - val_accuracy: 0.7744\n",
            "Epoch 23/100\n",
            "313/313 [==============================] - 13s 40ms/step - loss: 0.4639 - accuracy: 0.7944 - val_loss: 0.4857 - val_accuracy: 0.7758\n",
            "Epoch 24/100\n",
            "313/313 [==============================] - 13s 40ms/step - loss: 0.4584 - accuracy: 0.7971 - val_loss: 0.4861 - val_accuracy: 0.7750\n",
            "Epoch 25/100\n",
            "313/313 [==============================] - 12s 40ms/step - loss: 0.4542 - accuracy: 0.7990 - val_loss: 0.4848 - val_accuracy: 0.7760\n",
            "Epoch 26/100\n",
            "313/313 [==============================] - 12s 40ms/step - loss: 0.4512 - accuracy: 0.8015 - val_loss: 0.4770 - val_accuracy: 0.7766\n",
            "Epoch 27/100\n",
            "313/313 [==============================] - 12s 40ms/step - loss: 0.4477 - accuracy: 0.8035 - val_loss: 0.4774 - val_accuracy: 0.7792\n",
            "Epoch 28/100\n",
            "313/313 [==============================] - 13s 40ms/step - loss: 0.4453 - accuracy: 0.8037 - val_loss: 0.4738 - val_accuracy: 0.7758\n",
            "Epoch 29/100\n",
            "313/313 [==============================] - 13s 40ms/step - loss: 0.4422 - accuracy: 0.8045 - val_loss: 0.4712 - val_accuracy: 0.7768\n",
            "Epoch 30/100\n",
            "313/313 [==============================] - 13s 40ms/step - loss: 0.4395 - accuracy: 0.8062 - val_loss: 0.4738 - val_accuracy: 0.7792\n",
            "Epoch 31/100\n",
            "313/313 [==============================] - 12s 40ms/step - loss: 0.4373 - accuracy: 0.8086 - val_loss: 0.4699 - val_accuracy: 0.7830\n",
            "Epoch 32/100\n",
            "313/313 [==============================] - 13s 40ms/step - loss: 0.4357 - accuracy: 0.8070 - val_loss: 0.4662 - val_accuracy: 0.7806\n",
            "Epoch 33/100\n",
            "313/313 [==============================] - 13s 40ms/step - loss: 0.4334 - accuracy: 0.8102 - val_loss: 0.4691 - val_accuracy: 0.7818\n",
            "Epoch 34/100\n",
            "313/313 [==============================] - 13s 41ms/step - loss: 0.4317 - accuracy: 0.8120 - val_loss: 0.4680 - val_accuracy: 0.7836\n",
            "Epoch 35/100\n",
            "313/313 [==============================] - 13s 40ms/step - loss: 0.4300 - accuracy: 0.8128 - val_loss: 0.4629 - val_accuracy: 0.7844\n",
            "Epoch 36/100\n",
            "313/313 [==============================] - 13s 40ms/step - loss: 0.4283 - accuracy: 0.8127 - val_loss: 0.4647 - val_accuracy: 0.7868\n",
            "Epoch 37/100\n",
            "313/313 [==============================] - 13s 40ms/step - loss: 0.4270 - accuracy: 0.8124 - val_loss: 0.4620 - val_accuracy: 0.7874\n",
            "Epoch 38/100\n",
            "313/313 [==============================] - 13s 40ms/step - loss: 0.4249 - accuracy: 0.8135 - val_loss: 0.4603 - val_accuracy: 0.7844\n",
            "Epoch 39/100\n",
            "313/313 [==============================] - 12s 40ms/step - loss: 0.4235 - accuracy: 0.8145 - val_loss: 0.4587 - val_accuracy: 0.7866\n",
            "Epoch 40/100\n",
            "313/313 [==============================] - 13s 40ms/step - loss: 0.4225 - accuracy: 0.8155 - val_loss: 0.4570 - val_accuracy: 0.7892\n",
            "Epoch 41/100\n",
            "313/313 [==============================] - 13s 40ms/step - loss: 0.4210 - accuracy: 0.8163 - val_loss: 0.4579 - val_accuracy: 0.7870\n",
            "Epoch 42/100\n",
            "313/313 [==============================] - 13s 40ms/step - loss: 0.4196 - accuracy: 0.8164 - val_loss: 0.4560 - val_accuracy: 0.7860\n",
            "Epoch 43/100\n",
            "313/313 [==============================] - 13s 40ms/step - loss: 0.4188 - accuracy: 0.8170 - val_loss: 0.4569 - val_accuracy: 0.7874\n",
            "Epoch 44/100\n",
            "313/313 [==============================] - 12s 40ms/step - loss: 0.4182 - accuracy: 0.8165 - val_loss: 0.4552 - val_accuracy: 0.7850\n",
            "Epoch 45/100\n",
            "313/313 [==============================] - 13s 40ms/step - loss: 0.4168 - accuracy: 0.8167 - val_loss: 0.4567 - val_accuracy: 0.7862\n",
            "Epoch 46/100\n",
            "313/313 [==============================] - 13s 41ms/step - loss: 0.4153 - accuracy: 0.8178 - val_loss: 0.4543 - val_accuracy: 0.7880\n",
            "Epoch 47/100\n",
            "313/313 [==============================] - 13s 40ms/step - loss: 0.4143 - accuracy: 0.8186 - val_loss: 0.4579 - val_accuracy: 0.7890\n",
            "Epoch 48/100\n",
            "313/313 [==============================] - 13s 40ms/step - loss: 0.4134 - accuracy: 0.8195 - val_loss: 0.4556 - val_accuracy: 0.7894\n",
            "Epoch 49/100\n",
            "313/313 [==============================] - 13s 40ms/step - loss: 0.4124 - accuracy: 0.8203 - val_loss: 0.4533 - val_accuracy: 0.7922\n",
            "Epoch 50/100\n",
            "313/313 [==============================] - 13s 40ms/step - loss: 0.4119 - accuracy: 0.8210 - val_loss: 0.4609 - val_accuracy: 0.7850\n",
            "Epoch 51/100\n",
            "313/313 [==============================] - 13s 41ms/step - loss: 0.4108 - accuracy: 0.8202 - val_loss: 0.4680 - val_accuracy: 0.7814\n",
            "Epoch 52/100\n",
            "313/313 [==============================] - 13s 40ms/step - loss: 0.4102 - accuracy: 0.8205 - val_loss: 0.4520 - val_accuracy: 0.7912\n",
            "Epoch 53/100\n",
            "313/313 [==============================] - 13s 41ms/step - loss: 0.4091 - accuracy: 0.8218 - val_loss: 0.4545 - val_accuracy: 0.7890\n",
            "Epoch 54/100\n",
            "313/313 [==============================] - 13s 40ms/step - loss: 0.4087 - accuracy: 0.8220 - val_loss: 0.4541 - val_accuracy: 0.7914\n",
            "Epoch 55/100\n",
            "313/313 [==============================] - 13s 41ms/step - loss: 0.4077 - accuracy: 0.8221 - val_loss: 0.4512 - val_accuracy: 0.7908\n",
            "Epoch 56/100\n",
            "313/313 [==============================] - 13s 40ms/step - loss: 0.4066 - accuracy: 0.8215 - val_loss: 0.4532 - val_accuracy: 0.7906\n",
            "Epoch 57/100\n",
            "313/313 [==============================] - 13s 41ms/step - loss: 0.4060 - accuracy: 0.8224 - val_loss: 0.4569 - val_accuracy: 0.7884\n",
            "Epoch 58/100\n",
            "313/313 [==============================] - 13s 41ms/step - loss: 0.4058 - accuracy: 0.8225 - val_loss: 0.4500 - val_accuracy: 0.7938\n",
            "Epoch 59/100\n",
            "313/313 [==============================] - 13s 41ms/step - loss: 0.4045 - accuracy: 0.8238 - val_loss: 0.4513 - val_accuracy: 0.7946\n",
            "Epoch 60/100\n",
            "313/313 [==============================] - 13s 41ms/step - loss: 0.4040 - accuracy: 0.8234 - val_loss: 0.4510 - val_accuracy: 0.7930\n",
            "Epoch 61/100\n",
            "313/313 [==============================] - 13s 40ms/step - loss: 0.4030 - accuracy: 0.8243 - val_loss: 0.4500 - val_accuracy: 0.7952\n",
            "Epoch 62/100\n",
            "313/313 [==============================] - 13s 41ms/step - loss: 0.4020 - accuracy: 0.8246 - val_loss: 0.4506 - val_accuracy: 0.7950\n",
            "Epoch 63/100\n",
            "313/313 [==============================] - 13s 40ms/step - loss: 0.4015 - accuracy: 0.8238 - val_loss: 0.4532 - val_accuracy: 0.7914\n",
            "Epoch 64/100\n",
            "313/313 [==============================] - 13s 41ms/step - loss: 0.4006 - accuracy: 0.8244 - val_loss: 0.4568 - val_accuracy: 0.7914\n"
          ],
          "name": "stdout"
        }
      ]
    },
    {
      "cell_type": "code",
      "metadata": {
        "colab": {
          "base_uri": "https://localhost:8080/",
          "height": 279
        },
        "id": "PLu65yiVIKwL",
        "outputId": "526a77ae-729e-48f1-8818-11fd08552a9f"
      },
      "source": [
        "plt.plot(history.history['loss'])\n",
        "plt.plot(history.history['val_loss'])\n",
        "plt.xlabel('epoch')\n",
        "plt.ylabel('loss')\n",
        "plt.legend(['train','val'])\n",
        "plt.show()"
      ],
      "execution_count": 33,
      "outputs": [
        {
          "output_type": "display_data",
          "data": {
            "image/png": "[encoded data removed]",
            "text/plain": [
              "<Figure size 432x288 with 1 Axes>"
            ]
          },
          "metadata": {
            "tags": [],
            "needs_background": "light"
          }
        }
      ]
    },
    {
      "cell_type": "markdown",
      "metadata": {
        "id": "qew-BoHjPlot"
      },
      "source": [
        "## 단어 임베딩을 사용하기 "
      ]
    },
    {
      "cell_type": "code",
      "metadata": {
        "colab": {
          "base_uri": "https://localhost:8080/"
        },
        "id": "jcL6opsEIKyi",
        "outputId": "dabd774a-d0bd-4660-d6ea-207ebba750b5"
      },
      "source": [
        "model2 = keras.Sequential()\n",
        "\n",
        "model2.add(keras.layers.Embedding(500,16,input_length=100))\n",
        "model2.add(keras.layers.SimpleRNN(8))\n",
        "model2.add(keras.layers.Dense(1, activation = 'sigmoid'))\n",
        "\n",
        "model2.summary()"
      ],
      "execution_count": 34,
      "outputs": [
        {
          "output_type": "stream",
          "text": [
            "Model: \"sequential_1\"\n",
            "_________________________________________________________________\n",
            "Layer (type)                 Output Shape              Param #   \n",
            "=================================================================\n",
            "embedding (Embedding)        (None, 100, 16)           8000      \n",
            "_________________________________________________________________\n",
            "simple_rnn_1 (SimpleRNN)     (None, 8)                 200       \n",
            "_________________________________________________________________\n",
            "dense_1 (Dense)              (None, 1)                 9         \n",
            "=================================================================\n",
            "Total params: 8,209\n",
            "Trainable params: 8,209\n",
            "Non-trainable params: 0\n",
            "_________________________________________________________________\n"
          ],
          "name": "stdout"
        }
      ]
    },
    {
      "cell_type": "code",
      "metadata": {
        "id": "oV_ljEFoIK0j"
      },
      "source": [
        "rmsprop = keras.optimizers.RMSprop(learning_rate=1e-4)"
      ],
      "execution_count": 36,
      "outputs": []
    },
    {
      "cell_type": "code",
      "metadata": {
        "id": "A4vLuzt9IK3A"
      },
      "source": [
        "model2.compile(optimizer=rmsprop, loss='binary_crossentropy',\n",
        "               metrics = ['accuracy'])"
      ],
      "execution_count": 39,
      "outputs": []
    },
    {
      "cell_type": "code",
      "metadata": {
        "id": "qeyC9eRqIK5D"
      },
      "source": [
        "checkpint_cb = keras.callbacks.ModelCheckpoint('best-embedding-model.h5')\n",
        "early_stopping_cb = keras.callbacks.EarlyStopping(patience=3,\n",
        "                                                  restore_best_weights=True)"
      ],
      "execution_count": 40,
      "outputs": []
    },
    {
      "cell_type": "code",
      "metadata": {
        "colab": {
          "base_uri": "https://localhost:8080/"
        },
        "id": "Xj0PyMZUIK75",
        "outputId": "315ca651-ada2-47bd-ac90-9e1394d9a886"
      },
      "source": [
        "history = model2.fit(train_seq, train_target, epochs=100, batch_size=64,\n",
        "                     validation_data=(val_seq, val_target),\n",
        "                     callbacks=[checkpint_cb, early_stopping_cb])"
      ],
      "execution_count": 42,
      "outputs": [
        {
          "output_type": "stream",
          "text": [
            "Epoch 1/100\n",
            "313/313 [==============================] - 7s 20ms/step - loss: 0.6659 - accuracy: 0.6102 - val_loss: 0.6440 - val_accuracy: 0.6620\n",
            "Epoch 2/100\n",
            "313/313 [==============================] - 6s 20ms/step - loss: 0.6262 - accuracy: 0.6906 - val_loss: 0.6167 - val_accuracy: 0.7042\n",
            "Epoch 3/100\n",
            "313/313 [==============================] - 6s 20ms/step - loss: 0.6019 - accuracy: 0.7268 - val_loss: 0.5988 - val_accuracy: 0.7298\n",
            "Epoch 4/100\n",
            "313/313 [==============================] - 6s 20ms/step - loss: 0.5833 - accuracy: 0.7459 - val_loss: 0.5803 - val_accuracy: 0.7500\n",
            "Epoch 5/100\n",
            "313/313 [==============================] - 6s 20ms/step - loss: 0.5664 - accuracy: 0.7614 - val_loss: 0.5672 - val_accuracy: 0.7512\n",
            "Epoch 6/100\n",
            "313/313 [==============================] - 6s 20ms/step - loss: 0.5523 - accuracy: 0.7702 - val_loss: 0.5572 - val_accuracy: 0.7650\n",
            "Epoch 7/100\n",
            "313/313 [==============================] - 6s 20ms/step - loss: 0.5394 - accuracy: 0.7780 - val_loss: 0.5456 - val_accuracy: 0.7676\n",
            "Epoch 8/100\n",
            "313/313 [==============================] - 6s 20ms/step - loss: 0.5275 - accuracy: 0.7821 - val_loss: 0.5379 - val_accuracy: 0.7666\n",
            "Epoch 9/100\n",
            "313/313 [==============================] - 6s 20ms/step - loss: 0.5169 - accuracy: 0.7872 - val_loss: 0.5289 - val_accuracy: 0.7692\n",
            "Epoch 10/100\n",
            "313/313 [==============================] - 6s 20ms/step - loss: 0.5070 - accuracy: 0.7925 - val_loss: 0.5220 - val_accuracy: 0.7728\n",
            "Epoch 11/100\n",
            "313/313 [==============================] - 6s 20ms/step - loss: 0.4986 - accuracy: 0.7944 - val_loss: 0.5135 - val_accuracy: 0.7736\n",
            "Epoch 12/100\n",
            "313/313 [==============================] - 6s 20ms/step - loss: 0.4904 - accuracy: 0.7958 - val_loss: 0.5098 - val_accuracy: 0.7764\n",
            "Epoch 13/100\n",
            "313/313 [==============================] - 6s 20ms/step - loss: 0.4830 - accuracy: 0.7996 - val_loss: 0.5034 - val_accuracy: 0.7810\n",
            "Epoch 14/100\n",
            "313/313 [==============================] - 6s 20ms/step - loss: 0.4766 - accuracy: 0.8005 - val_loss: 0.4983 - val_accuracy: 0.7810\n",
            "Epoch 15/100\n",
            "313/313 [==============================] - 6s 20ms/step - loss: 0.4701 - accuracy: 0.8033 - val_loss: 0.4948 - val_accuracy: 0.7822\n",
            "Epoch 16/100\n",
            "313/313 [==============================] - 6s 20ms/step - loss: 0.4643 - accuracy: 0.8065 - val_loss: 0.4959 - val_accuracy: 0.7716\n",
            "Epoch 17/100\n",
            "313/313 [==============================] - 6s 20ms/step - loss: 0.4584 - accuracy: 0.8076 - val_loss: 0.4895 - val_accuracy: 0.7784\n",
            "Epoch 18/100\n",
            "313/313 [==============================] - 6s 20ms/step - loss: 0.4540 - accuracy: 0.8076 - val_loss: 0.4890 - val_accuracy: 0.7750\n",
            "Epoch 19/100\n",
            "313/313 [==============================] - 6s 20ms/step - loss: 0.4498 - accuracy: 0.8102 - val_loss: 0.4851 - val_accuracy: 0.7786\n",
            "Epoch 20/100\n",
            "313/313 [==============================] - 6s 20ms/step - loss: 0.4456 - accuracy: 0.8102 - val_loss: 0.4874 - val_accuracy: 0.7768\n",
            "Epoch 21/100\n",
            "313/313 [==============================] - 6s 20ms/step - loss: 0.4426 - accuracy: 0.8119 - val_loss: 0.4842 - val_accuracy: 0.7774\n",
            "Epoch 22/100\n",
            "313/313 [==============================] - 6s 20ms/step - loss: 0.4389 - accuracy: 0.8149 - val_loss: 0.4790 - val_accuracy: 0.7796\n",
            "Epoch 23/100\n",
            "313/313 [==============================] - 6s 20ms/step - loss: 0.4366 - accuracy: 0.8149 - val_loss: 0.4816 - val_accuracy: 0.7804\n",
            "Epoch 24/100\n",
            "313/313 [==============================] - 6s 20ms/step - loss: 0.4328 - accuracy: 0.8161 - val_loss: 0.4783 - val_accuracy: 0.7820\n",
            "Epoch 25/100\n",
            "313/313 [==============================] - 6s 20ms/step - loss: 0.4313 - accuracy: 0.8160 - val_loss: 0.4790 - val_accuracy: 0.7812\n",
            "Epoch 26/100\n",
            "313/313 [==============================] - 6s 20ms/step - loss: 0.4281 - accuracy: 0.8178 - val_loss: 0.4781 - val_accuracy: 0.7818\n",
            "Epoch 27/100\n",
            "313/313 [==============================] - 6s 20ms/step - loss: 0.4268 - accuracy: 0.8187 - val_loss: 0.4769 - val_accuracy: 0.7792\n",
            "Epoch 28/100\n",
            "313/313 [==============================] - 6s 20ms/step - loss: 0.4243 - accuracy: 0.8186 - val_loss: 0.4768 - val_accuracy: 0.7812\n",
            "Epoch 29/100\n",
            "313/313 [==============================] - 6s 21ms/step - loss: 0.4226 - accuracy: 0.8198 - val_loss: 0.4785 - val_accuracy: 0.7820\n",
            "Epoch 30/100\n",
            "313/313 [==============================] - 6s 20ms/step - loss: 0.4205 - accuracy: 0.8211 - val_loss: 0.4791 - val_accuracy: 0.7794\n",
            "Epoch 31/100\n",
            "313/313 [==============================] - 6s 20ms/step - loss: 0.4190 - accuracy: 0.8229 - val_loss: 0.4811 - val_accuracy: 0.7790\n"
          ],
          "name": "stdout"
        }
      ]
    },
    {
      "cell_type": "code",
      "metadata": {
        "colab": {
          "base_uri": "https://localhost:8080/",
          "height": 279
        },
        "id": "hEM4mUBVIK9q",
        "outputId": "8234a104-9341-4cbb-a326-66a383216ba5"
      },
      "source": [
        "plt.plot(history.history['loss'])\n",
        "plt.plot(history.history['val_loss'])\n",
        "plt.xlabel('epoch')\n",
        "plt.ylabel('loss')\n",
        "plt.legend(['train','val'])\n",
        "plt.show()"
      ],
      "execution_count": 43,
      "outputs": [
        {
          "output_type": "display_data",
          "data": {
            "image/png": "[encoded data removed]",
            "text/plain": [
              "<Figure size 432x288 with 1 Axes>"
            ]
          },
          "metadata": {
            "tags": [],
            "needs_background": "light"
          }
        }
      ]
    },
    {
      "cell_type": "markdown",
      "metadata": {
        "id": "R15U_Bm6Tthb"
      },
      "source": [
        "# LSTM 과 GRU 셀 \n",
        "\n",
        "## LSTM 신경망 훈련하기 "
      ]
    },
    {
      "cell_type": "code",
      "metadata": {
        "id": "xWF0jNxjTtsK"
      },
      "source": [
        "from tensorflow.keras.datasets import imdb\n",
        "from sklearn.model_selection import train_test_split"
      ],
      "execution_count": 44,
      "outputs": []
    },
    {
      "cell_type": "code",
      "metadata": {
        "colab": {
          "base_uri": "https://localhost:8080/"
        },
        "id": "_YL5cB5eTtv7",
        "outputId": "d48d233c-8e5e-47f3-e1ee-89bb66dcc167"
      },
      "source": [
        "(train_input, train_target), (test_input, test_target) = imdb.load_data(\n",
        "    num_words=500)\n",
        "\n",
        "train_input, val_input, train_target, val_target = train_test_split(\n",
        "    train_input, train_target, test_size=0.2, random_state=42)"
      ],
      "execution_count": 47,
      "outputs": [
        {
          "output_type": "stream",
          "text": [
            "<string>:6: VisibleDeprecationWarning: Creating an ndarray from ragged nested sequences (which is a list-or-tuple of lists-or-tuples-or ndarrays with different lengths or shapes) is deprecated. If you meant to do this, you must specify 'dtype=object' when creating the ndarray\n",
            "/usr/local/lib/python3.7/dist-packages/tensorflow/python/keras/datasets/imdb.py:155: VisibleDeprecationWarning: Creating an ndarray from ragged nested sequences (which is a list-or-tuple of lists-or-tuples-or ndarrays with different lengths or shapes) is deprecated. If you meant to do this, you must specify 'dtype=object' when creating the ndarray\n",
            "  x_train, y_train = np.array(xs[:idx]), np.array(labels[:idx])\n",
            "/usr/local/lib/python3.7/dist-packages/tensorflow/python/keras/datasets/imdb.py:156: VisibleDeprecationWarning: Creating an ndarray from ragged nested sequences (which is a list-or-tuple of lists-or-tuples-or ndarrays with different lengths or shapes) is deprecated. If you meant to do this, you must specify 'dtype=object' when creating the ndarray\n",
            "  x_test, y_test = np.array(xs[idx:]), np.array(labels[idx:])\n"
          ],
          "name": "stderr"
        }
      ]
    },
    {
      "cell_type": "code",
      "metadata": {
        "id": "1D6Wkf97Ttzx"
      },
      "source": [
        "from tensorflow.keras.preprocessing.sequence import pad_sequences\n",
        "\n",
        "train_seq = pad_sequences(train_input, maxlen=100)\n",
        "val_seq = pad_sequences(val_input, maxlen=100)"
      ],
      "execution_count": 48,
      "outputs": []
    },
    {
      "cell_type": "code",
      "metadata": {
        "colab": {
          "base_uri": "https://localhost:8080/"
        },
        "id": "bhB0BNuDTt3f",
        "outputId": "114a3a50-84c0-49fd-8762-4f9d5aa5e2a0"
      },
      "source": [
        "from tensorflow import keras\n",
        "\n",
        "model.add(keras.layers.Embedding(500, 16, input_length=100))\n",
        "model.add(keras.layers.LSTM(8))\n",
        "model.add(keras.layers.Dense(1, activation='sigmoid'))\n",
        "\n",
        "model.summary()"
      ],
      "execution_count": 51,
      "outputs": [
        {
          "output_type": "stream",
          "text": [
            "Model: \"sequential\"\n",
            "_________________________________________________________________\n",
            "Layer (type)                 Output Shape              Param #   \n",
            "=================================================================\n",
            "simple_rnn (SimpleRNN)       (None, 8)                 4072      \n",
            "_________________________________________________________________\n",
            "dense (Dense)                (None, 1)                 9         \n",
            "_________________________________________________________________\n",
            "embedding_1 (Embedding)      (None, 1, 16)             8000      \n",
            "_________________________________________________________________\n",
            "lstm (LSTM)                  (None, 8)                 800       \n",
            "_________________________________________________________________\n",
            "dense_2 (Dense)              (None, 1)                 9         \n",
            "_________________________________________________________________\n",
            "embedding_2 (Embedding)      (None, 1, 16)             8000      \n",
            "_________________________________________________________________\n",
            "lstm_1 (LSTM)                (None, 8)                 800       \n",
            "_________________________________________________________________\n",
            "dense_3 (Dense)              (None, 1)                 9         \n",
            "=================================================================\n",
            "Total params: 21,699\n",
            "Trainable params: 21,699\n",
            "Non-trainable params: 0\n",
            "_________________________________________________________________\n"
          ],
          "name": "stdout"
        }
      ]
    },
    {
      "cell_type": "markdown",
      "metadata": {
        "id": "MmaRye9rXDZ5"
      },
      "source": [
        "## 2개의 층을 연결하기 "
      ]
    },
    {
      "cell_type": "code",
      "metadata": {
        "colab": {
          "base_uri": "https://localhost:8080/"
        },
        "id": "2ziuo4ImIK_3",
        "outputId": "dd5190ec-b57e-4b26-8898-1ce4cbf40397"
      },
      "source": [
        "model3 = keras.Sequential()\n",
        "\n",
        "model3.add(keras.layers.Embedding(500, 16, input_length=100))\n",
        "model3.add(keras.layers.LSTM(8, dropout=0.3, return_sequences=True))\n",
        "model3.add(keras.layers.LSTM(8, dropout=0.3))\n",
        "model3.add(keras.layers.Dense(1, activation='sigmoid'))\n",
        "\n",
        "model3.summary()"
      ],
      "execution_count": 52,
      "outputs": [
        {
          "output_type": "stream",
          "text": [
            "Model: \"sequential_2\"\n",
            "_________________________________________________________________\n",
            "Layer (type)                 Output Shape              Param #   \n",
            "=================================================================\n",
            "embedding_3 (Embedding)      (None, 100, 16)           8000      \n",
            "_________________________________________________________________\n",
            "lstm_2 (LSTM)                (None, 100, 8)            800       \n",
            "_________________________________________________________________\n",
            "lstm_3 (LSTM)                (None, 8)                 544       \n",
            "_________________________________________________________________\n",
            "dense_4 (Dense)              (None, 1)                 9         \n",
            "=================================================================\n",
            "Total params: 9,353\n",
            "Trainable params: 9,353\n",
            "Non-trainable params: 0\n",
            "_________________________________________________________________\n"
          ],
          "name": "stdout"
        }
      ]
    },
    {
      "cell_type": "code",
      "metadata": {
        "id": "ZFALHaFCILCR"
      },
      "source": [
        "rmsprop = keras.optimizers.RMSprop(learning_rate=1e-4)\n",
        "model3.compile(optimizer=rmsprop, loss='binary_crossentropy',\n",
        "               metrics=['accuracy'])"
      ],
      "execution_count": 53,
      "outputs": []
    },
    {
      "cell_type": "code",
      "metadata": {
        "id": "Xg7J8tJvYZYM"
      },
      "source": [
        "checkpint_cb = keras.callbacks.ModelCheckpoint('best-2rnn-model.h5')\n",
        "early_stopping_cb = keras.callbacks.EarlyStopping(patience=3,\n",
        "                                                  restore_best_weights=True)"
      ],
      "execution_count": 54,
      "outputs": []
    },
    {
      "cell_type": "code",
      "metadata": {
        "colab": {
          "base_uri": "https://localhost:8080/"
        },
        "id": "phCzG3mXYZbr",
        "outputId": "cfc12197-6b80-424e-bf07-93c532805292"
      },
      "source": [
        "history = model3.fit(train_seq, train_target, epochs=100, batch_size=64,\n",
        "                     validation_data=(val_seq, val_target),\n",
        "                     callbacks=[checkpint_cb, early_stopping_cb])"
      ],
      "execution_count": 55,
      "outputs": [
        {
          "output_type": "stream",
          "text": [
            "Epoch 1/100\n",
            "313/313 [==============================] - 27s 76ms/step - loss: 0.6928 - accuracy: 0.5289 - val_loss: 0.6923 - val_accuracy: 0.5570\n",
            "Epoch 2/100\n",
            "313/313 [==============================] - 23s 72ms/step - loss: 0.6908 - accuracy: 0.5803 - val_loss: 0.6883 - val_accuracy: 0.6168\n",
            "Epoch 3/100\n",
            "313/313 [==============================] - 23s 73ms/step - loss: 0.6790 - accuracy: 0.6226 - val_loss: 0.6642 - val_accuracy: 0.6128\n",
            "Epoch 4/100\n",
            "313/313 [==============================] - 23s 73ms/step - loss: 0.6269 - accuracy: 0.6840 - val_loss: 0.5913 - val_accuracy: 0.7212\n",
            "Epoch 5/100\n",
            "313/313 [==============================] - 23s 72ms/step - loss: 0.5708 - accuracy: 0.7311 - val_loss: 0.5488 - val_accuracy: 0.7446\n",
            "Epoch 6/100\n",
            "313/313 [==============================] - 23s 72ms/step - loss: 0.5405 - accuracy: 0.7486 - val_loss: 0.5231 - val_accuracy: 0.7606\n",
            "Epoch 7/100\n",
            "313/313 [==============================] - 23s 73ms/step - loss: 0.5152 - accuracy: 0.7652 - val_loss: 0.5004 - val_accuracy: 0.7694\n",
            "Epoch 8/100\n",
            "313/313 [==============================] - 23s 73ms/step - loss: 0.5008 - accuracy: 0.7679 - val_loss: 0.4894 - val_accuracy: 0.7754\n",
            "Epoch 9/100\n",
            "313/313 [==============================] - 23s 73ms/step - loss: 0.4883 - accuracy: 0.7738 - val_loss: 0.4764 - val_accuracy: 0.7794\n",
            "Epoch 10/100\n",
            "313/313 [==============================] - 23s 74ms/step - loss: 0.4772 - accuracy: 0.7796 - val_loss: 0.4743 - val_accuracy: 0.7810\n",
            "Epoch 11/100\n",
            "313/313 [==============================] - 23s 74ms/step - loss: 0.4690 - accuracy: 0.7866 - val_loss: 0.4608 - val_accuracy: 0.7876\n",
            "Epoch 12/100\n",
            "313/313 [==============================] - 23s 73ms/step - loss: 0.4622 - accuracy: 0.7875 - val_loss: 0.4585 - val_accuracy: 0.7858\n",
            "Epoch 13/100\n",
            "313/313 [==============================] - 23s 73ms/step - loss: 0.4582 - accuracy: 0.7905 - val_loss: 0.4520 - val_accuracy: 0.7892\n",
            "Epoch 14/100\n",
            "313/313 [==============================] - 23s 73ms/step - loss: 0.4496 - accuracy: 0.7943 - val_loss: 0.4493 - val_accuracy: 0.7926\n",
            "Epoch 15/100\n",
            "313/313 [==============================] - 23s 74ms/step - loss: 0.4479 - accuracy: 0.7964 - val_loss: 0.4470 - val_accuracy: 0.7938\n",
            "Epoch 16/100\n",
            "313/313 [==============================] - 23s 73ms/step - loss: 0.4452 - accuracy: 0.7965 - val_loss: 0.4474 - val_accuracy: 0.7932\n",
            "Epoch 17/100\n",
            "313/313 [==============================] - 23s 73ms/step - loss: 0.4450 - accuracy: 0.7968 - val_loss: 0.4508 - val_accuracy: 0.7938\n",
            "Epoch 18/100\n",
            "313/313 [==============================] - 23s 73ms/step - loss: 0.4422 - accuracy: 0.8002 - val_loss: 0.4449 - val_accuracy: 0.7904\n",
            "Epoch 19/100\n",
            "313/313 [==============================] - 23s 73ms/step - loss: 0.4373 - accuracy: 0.8002 - val_loss: 0.4471 - val_accuracy: 0.7966\n",
            "Epoch 20/100\n",
            "313/313 [==============================] - 23s 74ms/step - loss: 0.4376 - accuracy: 0.7990 - val_loss: 0.4441 - val_accuracy: 0.7912\n",
            "Epoch 21/100\n",
            "313/313 [==============================] - 23s 73ms/step - loss: 0.4362 - accuracy: 0.7988 - val_loss: 0.4399 - val_accuracy: 0.7908\n",
            "Epoch 22/100\n",
            "313/313 [==============================] - 23s 73ms/step - loss: 0.4336 - accuracy: 0.8021 - val_loss: 0.4407 - val_accuracy: 0.7926\n",
            "Epoch 23/100\n",
            "313/313 [==============================] - 23s 73ms/step - loss: 0.4331 - accuracy: 0.8019 - val_loss: 0.4371 - val_accuracy: 0.8008\n",
            "Epoch 24/100\n",
            "313/313 [==============================] - 23s 73ms/step - loss: 0.4311 - accuracy: 0.8010 - val_loss: 0.4370 - val_accuracy: 0.7938\n",
            "Epoch 25/100\n",
            "313/313 [==============================] - 23s 74ms/step - loss: 0.4292 - accuracy: 0.8044 - val_loss: 0.4385 - val_accuracy: 0.8020\n",
            "Epoch 26/100\n",
            "313/313 [==============================] - 23s 74ms/step - loss: 0.4269 - accuracy: 0.8066 - val_loss: 0.4364 - val_accuracy: 0.7962\n",
            "Epoch 27/100\n",
            "313/313 [==============================] - 23s 75ms/step - loss: 0.4268 - accuracy: 0.8059 - val_loss: 0.4349 - val_accuracy: 0.8008\n",
            "Epoch 28/100\n",
            "313/313 [==============================] - 23s 73ms/step - loss: 0.4252 - accuracy: 0.8073 - val_loss: 0.4352 - val_accuracy: 0.7966\n",
            "Epoch 29/100\n",
            "313/313 [==============================] - 23s 73ms/step - loss: 0.4257 - accuracy: 0.8055 - val_loss: 0.4360 - val_accuracy: 0.8028\n",
            "Epoch 30/100\n",
            "313/313 [==============================] - 23s 74ms/step - loss: 0.4261 - accuracy: 0.8067 - val_loss: 0.4353 - val_accuracy: 0.8000\n"
          ],
          "name": "stdout"
        }
      ]
    },
    {
      "cell_type": "code",
      "metadata": {
        "colab": {
          "base_uri": "https://localhost:8080/",
          "height": 279
        },
        "id": "vbZplpf1YZeM",
        "outputId": "0ddae1f4-bb8f-4980-ddb6-d13346ce00ca"
      },
      "source": [
        "plt.plot(history.history['loss'])\n",
        "plt.plot(history.history['val_loss'])\n",
        "plt.xlabel('epoch')\n",
        "plt.ylabel('loss')\n",
        "plt.legend(['train','val'])\n",
        "plt.show()"
      ],
      "execution_count": 56,
      "outputs": [
        {
          "output_type": "display_data",
          "data": {
            "image/png": "[encoded data removed]",
            "text/plain": [
              "<Figure size 432x288 with 1 Axes>"
            ]
          },
          "metadata": {
            "tags": [],
            "needs_background": "light"
          }
        }
      ]
    },
    {
      "cell_type": "markdown",
      "metadata": {
        "id": "SZIOTUAJZJjT"
      },
      "source": [
        "## GRU 신경망 훈련하기 "
      ]
    },
    {
      "cell_type": "code",
      "metadata": {
        "colab": {
          "base_uri": "https://localhost:8080/"
        },
        "id": "2qlu7zNuYZhU",
        "outputId": "86e0ef6d-3700-4924-beb7-334f01a69615"
      },
      "source": [
        "model4 = keras.Sequential()\n",
        "\n",
        "model4.add(keras.layers.Embedding(500, 15, input_length=100))\n",
        "model4.add(keras.layers.GRU(8))\n",
        "model4.add(keras.layers.Dense(1, activation='sigmoid'))\n",
        "\n",
        "model4.summary()"
      ],
      "execution_count": 57,
      "outputs": [
        {
          "output_type": "stream",
          "text": [
            "Model: \"sequential_3\"\n",
            "_________________________________________________________________\n",
            "Layer (type)                 Output Shape              Param #   \n",
            "=================================================================\n",
            "embedding_4 (Embedding)      (None, 100, 15)           7500      \n",
            "_________________________________________________________________\n",
            "gru (GRU)                    (None, 8)                 600       \n",
            "_________________________________________________________________\n",
            "dense_5 (Dense)              (None, 1)                 9         \n",
            "=================================================================\n",
            "Total params: 8,109\n",
            "Trainable params: 8,109\n",
            "Non-trainable params: 0\n",
            "_________________________________________________________________\n"
          ],
          "name": "stdout"
        }
      ]
    },
    {
      "cell_type": "code",
      "metadata": {
        "id": "DaFT8riHYZkb"
      },
      "source": [
        "rmsprop = keras.optimizers.RMSprop(learning_rate=1e-4)\n",
        "model4.compile(optimizer=rmsprop, loss='binary_crossentropy',\n",
        "               metrics = ['accuracy'])"
      ],
      "execution_count": 58,
      "outputs": []
    },
    {
      "cell_type": "code",
      "metadata": {
        "id": "n6fWZ7CDaJaY"
      },
      "source": [
        "checkpint_cb = keras.callbacks.ModelCheckpoint('best-gru-model.h5')\n",
        "early_stopping_cb = keras.callbacks.EarlyStopping(patience=3,\n",
        "                                                  restore_best_weights=True)"
      ],
      "execution_count": 59,
      "outputs": []
    },
    {
      "cell_type": "code",
      "metadata": {
        "colab": {
          "base_uri": "https://localhost:8080/"
        },
        "id": "Qsk6mblTaJdd",
        "outputId": "163337bf-874e-4171-f8f9-d9392246295d"
      },
      "source": [
        "history = model4.fit(train_seq, train_target, epochs=100, batch_size=64,\n",
        "                     validation_data=(val_seq, val_target),\n",
        "                     callbacks=[checkpint_cb, early_stopping_cb])"
      ],
      "execution_count": 60,
      "outputs": [
        {
          "output_type": "stream",
          "text": [
            "Epoch 1/100\n",
            "313/313 [==============================] - 15s 42ms/step - loss: 0.6916 - accuracy: 0.5356 - val_loss: 0.6905 - val_accuracy: 0.5802\n",
            "Epoch 2/100\n",
            "313/313 [==============================] - 13s 40ms/step - loss: 0.6883 - accuracy: 0.5946 - val_loss: 0.6867 - val_accuracy: 0.5950\n",
            "Epoch 3/100\n",
            "313/313 [==============================] - 13s 40ms/step - loss: 0.6829 - accuracy: 0.6180 - val_loss: 0.6806 - val_accuracy: 0.6080\n",
            "Epoch 4/100\n",
            "313/313 [==============================] - 13s 40ms/step - loss: 0.6740 - accuracy: 0.6341 - val_loss: 0.6705 - val_accuracy: 0.6208\n",
            "Epoch 5/100\n",
            "313/313 [==============================] - 12s 40ms/step - loss: 0.6594 - accuracy: 0.6450 - val_loss: 0.6526 - val_accuracy: 0.6452\n",
            "Epoch 6/100\n",
            "313/313 [==============================] - 12s 40ms/step - loss: 0.6338 - accuracy: 0.6684 - val_loss: 0.6209 - val_accuracy: 0.6744\n",
            "Epoch 7/100\n",
            "313/313 [==============================] - 12s 40ms/step - loss: 0.5807 - accuracy: 0.7078 - val_loss: 0.5502 - val_accuracy: 0.7250\n",
            "Epoch 8/100\n",
            "313/313 [==============================] - 12s 40ms/step - loss: 0.5183 - accuracy: 0.7481 - val_loss: 0.5151 - val_accuracy: 0.7486\n",
            "Epoch 9/100\n",
            "313/313 [==============================] - 12s 40ms/step - loss: 0.4953 - accuracy: 0.7646 - val_loss: 0.4976 - val_accuracy: 0.7598\n",
            "Epoch 10/100\n",
            "313/313 [==============================] - 13s 40ms/step - loss: 0.4797 - accuracy: 0.7750 - val_loss: 0.4846 - val_accuracy: 0.7714\n",
            "Epoch 11/100\n",
            "313/313 [==============================] - 12s 40ms/step - loss: 0.4676 - accuracy: 0.7827 - val_loss: 0.4763 - val_accuracy: 0.7782\n",
            "Epoch 12/100\n",
            "313/313 [==============================] - 13s 40ms/step - loss: 0.4583 - accuracy: 0.7907 - val_loss: 0.4693 - val_accuracy: 0.7816\n",
            "Epoch 13/100\n",
            "313/313 [==============================] - 13s 40ms/step - loss: 0.4506 - accuracy: 0.7951 - val_loss: 0.4637 - val_accuracy: 0.7850\n",
            "Epoch 14/100\n",
            "313/313 [==============================] - 12s 40ms/step - loss: 0.4453 - accuracy: 0.7976 - val_loss: 0.4643 - val_accuracy: 0.7764\n",
            "Epoch 15/100\n",
            "313/313 [==============================] - 13s 40ms/step - loss: 0.4407 - accuracy: 0.8008 - val_loss: 0.4574 - val_accuracy: 0.7918\n",
            "Epoch 16/100\n",
            "313/313 [==============================] - 13s 41ms/step - loss: 0.4368 - accuracy: 0.8037 - val_loss: 0.4553 - val_accuracy: 0.7862\n",
            "Epoch 17/100\n",
            "313/313 [==============================] - 13s 40ms/step - loss: 0.4336 - accuracy: 0.8046 - val_loss: 0.4528 - val_accuracy: 0.7912\n",
            "Epoch 18/100\n",
            "313/313 [==============================] - 12s 40ms/step - loss: 0.4309 - accuracy: 0.8072 - val_loss: 0.4561 - val_accuracy: 0.7828\n",
            "Epoch 19/100\n",
            "313/313 [==============================] - 13s 40ms/step - loss: 0.4289 - accuracy: 0.8091 - val_loss: 0.4505 - val_accuracy: 0.7912\n",
            "Epoch 20/100\n",
            "313/313 [==============================] - 13s 40ms/step - loss: 0.4268 - accuracy: 0.8092 - val_loss: 0.4494 - val_accuracy: 0.7892\n",
            "Epoch 21/100\n",
            "313/313 [==============================] - 13s 40ms/step - loss: 0.4248 - accuracy: 0.8108 - val_loss: 0.4489 - val_accuracy: 0.7928\n",
            "Epoch 22/100\n",
            "313/313 [==============================] - 12s 40ms/step - loss: 0.4237 - accuracy: 0.8119 - val_loss: 0.4488 - val_accuracy: 0.7900\n",
            "Epoch 23/100\n",
            "313/313 [==============================] - 12s 40ms/step - loss: 0.4224 - accuracy: 0.8128 - val_loss: 0.4478 - val_accuracy: 0.7882\n",
            "Epoch 24/100\n",
            "313/313 [==============================] - 13s 40ms/step - loss: 0.4215 - accuracy: 0.8116 - val_loss: 0.4484 - val_accuracy: 0.7940\n",
            "Epoch 25/100\n",
            "313/313 [==============================] - 13s 40ms/step - loss: 0.4203 - accuracy: 0.8124 - val_loss: 0.4497 - val_accuracy: 0.7954\n",
            "Epoch 26/100\n",
            "313/313 [==============================] - 13s 40ms/step - loss: 0.4195 - accuracy: 0.8146 - val_loss: 0.4468 - val_accuracy: 0.7896\n",
            "Epoch 27/100\n",
            "313/313 [==============================] - 13s 41ms/step - loss: 0.4188 - accuracy: 0.8138 - val_loss: 0.4477 - val_accuracy: 0.7890\n",
            "Epoch 28/100\n",
            "313/313 [==============================] - 13s 40ms/step - loss: 0.4181 - accuracy: 0.8148 - val_loss: 0.4453 - val_accuracy: 0.7900\n",
            "Epoch 29/100\n",
            "313/313 [==============================] - 13s 40ms/step - loss: 0.4173 - accuracy: 0.8148 - val_loss: 0.4437 - val_accuracy: 0.7936\n",
            "Epoch 30/100\n",
            "313/313 [==============================] - 13s 40ms/step - loss: 0.4169 - accuracy: 0.8144 - val_loss: 0.4452 - val_accuracy: 0.7936\n",
            "Epoch 31/100\n",
            "313/313 [==============================] - 13s 41ms/step - loss: 0.4166 - accuracy: 0.8145 - val_loss: 0.4436 - val_accuracy: 0.7956\n",
            "Epoch 32/100\n",
            "313/313 [==============================] - 13s 40ms/step - loss: 0.4158 - accuracy: 0.8138 - val_loss: 0.4427 - val_accuracy: 0.7960\n",
            "Epoch 33/100\n",
            "313/313 [==============================] - 13s 40ms/step - loss: 0.4156 - accuracy: 0.8145 - val_loss: 0.4419 - val_accuracy: 0.7954\n",
            "Epoch 34/100\n",
            "313/313 [==============================] - 13s 41ms/step - loss: 0.4151 - accuracy: 0.8152 - val_loss: 0.4571 - val_accuracy: 0.7818\n",
            "Epoch 35/100\n",
            "313/313 [==============================] - 13s 41ms/step - loss: 0.4149 - accuracy: 0.8135 - val_loss: 0.4424 - val_accuracy: 0.7922\n",
            "Epoch 36/100\n",
            "313/313 [==============================] - 13s 41ms/step - loss: 0.4143 - accuracy: 0.8151 - val_loss: 0.4429 - val_accuracy: 0.7920\n"
          ],
          "name": "stdout"
        }
      ]
    },
    {
      "cell_type": "code",
      "metadata": {
        "colab": {
          "base_uri": "https://localhost:8080/",
          "height": 279
        },
        "id": "95JbGOn0aJfi",
        "outputId": "0cb07a28-f2c2-4511-e85b-bb90e11e648d"
      },
      "source": [
        "plt.plot(history.history['loss'])\n",
        "plt.plot(history.history['val_loss'])\n",
        "plt.xlabel('epoch')\n",
        "plt.ylabel('loss')\n",
        "plt.legend(['train','val'])\n",
        "plt.show()"
      ],
      "execution_count": 61,
      "outputs": [
        {
          "output_type": "display_data",
          "data": {
            "image/png": "[encoded data removed]",
            "text/plain": [
              "<Figure size 432x288 with 1 Axes>"
            ]
          },
          "metadata": {
            "tags": [],
            "needs_background": "light"
          }
        }
      ]
    },
    {
      "cell_type": "markdown",
      "metadata": {
        "id": "wNF61uxDafsT"
      },
      "source": [
        "## 마무리 "
      ]
    },
    {
      "cell_type": "code",
      "metadata": {
        "colab": {
          "base_uri": "https://localhost:8080/"
        },
        "id": "ozNIHv9oagPM",
        "outputId": "7608351b-54e3-4a41-d063-ba533059bbd8"
      },
      "source": [
        "test_seq = pad_sequences(test_input, maxlen=100)\n",
        "\n",
        "rnn_model = keras.models.load_model('best-2rnn-model.h5')\n",
        "\n",
        "rnn_model.evaluate(test_seq, test_target)"
      ],
      "execution_count": 62,
      "outputs": [
        {
          "output_type": "stream",
          "text": [
            "782/782 [==============================] - 10s 12ms/step - loss: 0.4296 - accuracy: 0.7982\n"
          ],
          "name": "stdout"
        },
        {
          "output_type": "execute_result",
          "data": {
            "text/plain": [
              "[0.4296112060546875, 0.7982400059700012]"
            ]
          },
          "metadata": {
            "tags": []
          },
          "execution_count": 62
        }
      ]
    },
    {
      "cell_type": "code",
      "metadata": {
        "id": "MkGMN4vbaJj0"
      },
      "source": [
        ""
      ],
      "execution_count": null,
      "outputs": []
    }
  ]
}